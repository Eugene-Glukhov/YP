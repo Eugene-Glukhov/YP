{
 "cells": [
  {
   "cell_type": "markdown",
   "metadata": {},
   "source": [
    "# Выбор локации для скважины"
   ]
  },
  {
   "cell_type": "markdown",
   "metadata": {},
   "source": [
    "\n",
    "**Условия поставленной задачи:**\n",
    "\n",
    "Нужно решить, где бурить новую скважину.\n",
    "\n",
    "предоставлены пробы нефти в трёх регионах: в каждом 10 000 месторождений, где измерили качество нефти и объём её запасов. Необходимо построить модель машинного обучения, которая поможет определить регион, где добыча принесёт наибольшую прибыль. Проанализировать возможную прибыль и риски техникой *Bootstrap.*\n",
    "\n",
    "Шаги для выбора локации:\n",
    "\n",
    "- В избранном регионе ищут месторождения, для каждого определяют значения признаков;\n",
    "- Строят модель и оценивают объём запасов;\n",
    "- Выбирают месторождения с самым высокими оценками значений. Количество месторождений зависит от бюджета компании и стоимости разработки одной скважины;\n",
    "- Прибыль равна суммарной прибыли отобранных месторождений."
   ]
  },
  {
   "cell_type": "markdown",
   "metadata": {},
   "source": [
    "## Загрузка и подготовка данных"
   ]
  },
  {
   "cell_type": "markdown",
   "metadata": {
    "scrolled": true
   },
   "source": [
    "### **Наблюдения и выводы:**\n",
    "\n",
    "Для построения моделей и анализа загружены данные по трем регионам. Все датасеты не имеют дубликатов и пропусков. В качестве данных представлены уникальные номера id (которые не будут использоваться для построения моделей), параметры-фичи (f0,f1,f2) и целевой признак -  количество продукта.\n",
    "\n",
    "Можно отметить для второго региона высокую зависимость параметра f2 и целевого признака product.\n",
    "\n",
    "**Ход работы:**\n",
    "- построение отчетов для изучения датасетов;\n",
    "- разделение выборок на обучающую и валидационную части;\n",
    "- построение моделей линейной регрессии на обучающей выборке;\n",
    "- вывод информации о метрике RMSE и среднего запаса предсказанного сырья;\n",
    "- вывод графика о влиянии фичей на целевой признак;\n",
    "- расчет прибыли и рисков;\n",
    "- краткие выводы с рекомендациями по региону для разработки."
   ]
  },
  {
   "cell_type": "code",
   "execution_count": 1,
   "metadata": {
    "scrolled": true
   },
   "outputs": [
    {
     "name": "stdout",
     "output_type": "stream",
     "text": [
      "Collecting https://github.com/pandas-profiling/pandas-profiling/archive/master.zip\n",
      "  Downloading https://github.com/pandas-profiling/pandas-profiling/archive/master.zip\n",
      "\u001b[2K     \u001b[32m-\u001b[0m \u001b[32m17.8 MB\u001b[0m \u001b[31m491.5 kB/s\u001b[0m \u001b[33m0:00:30\u001b[0mm\n",
      "\u001b[?25h  Preparing metadata (setup.py) ... \u001b[?25ldone\n",
      "\u001b[?25hRequirement already satisfied: scipy<1.12,>=1.4.1 in /opt/anaconda3/lib/python3.9/site-packages (from ydata-profiling==0.0.dev0) (1.9.1)\n",
      "Requirement already satisfied: pandas!=1.4.0,<2.1,>1.1 in /opt/anaconda3/lib/python3.9/site-packages (from ydata-profiling==0.0.dev0) (1.4.4)\n",
      "Requirement already satisfied: matplotlib<=3.7.3,>=3.2 in /opt/anaconda3/lib/python3.9/site-packages (from ydata-profiling==0.0.dev0) (3.5.2)\n",
      "Collecting pydantic>=2 (from ydata-profiling==0.0.dev0)\n",
      "  Downloading pydantic-2.4.2-py3-none-any.whl (395 kB)\n",
      "\u001b[2K     \u001b[90m━━━━━━━━━━━━━━━━━━━━━━━━━━━━━━━━━━━━━━━\u001b[0m \u001b[32m395.8/395.8 kB\u001b[0m \u001b[31m1.6 MB/s\u001b[0m eta \u001b[36m0:00:00\u001b[0m00:01\u001b[0m00:01\u001b[0m\n",
      "\u001b[?25hRequirement already satisfied: PyYAML<6.1,>=5.0.0 in /opt/anaconda3/lib/python3.9/site-packages (from ydata-profiling==0.0.dev0) (6.0)\n",
      "Requirement already satisfied: jinja2<3.2,>=2.11.1 in /opt/anaconda3/lib/python3.9/site-packages (from ydata-profiling==0.0.dev0) (2.11.3)\n",
      "Requirement already satisfied: visions[type_image_path]==0.7.5 in /opt/anaconda3/lib/python3.9/site-packages (from ydata-profiling==0.0.dev0) (0.7.5)\n",
      "Requirement already satisfied: numpy<1.26,>=1.16.0 in /opt/anaconda3/lib/python3.9/site-packages (from ydata-profiling==0.0.dev0) (1.21.5)\n",
      "Requirement already satisfied: htmlmin==0.1.12 in /opt/anaconda3/lib/python3.9/site-packages (from ydata-profiling==0.0.dev0) (0.1.12)\n",
      "Requirement already satisfied: phik<0.13,>=0.11.1 in /opt/anaconda3/lib/python3.9/site-packages (from ydata-profiling==0.0.dev0) (0.12.3)\n",
      "Requirement already satisfied: requests<3,>=2.24.0 in /opt/anaconda3/lib/python3.9/site-packages (from ydata-profiling==0.0.dev0) (2.28.1)\n",
      "Requirement already satisfied: tqdm<5,>=4.48.2 in /opt/anaconda3/lib/python3.9/site-packages (from ydata-profiling==0.0.dev0) (4.64.1)\n",
      "Requirement already satisfied: seaborn<0.13,>=0.10.1 in /opt/anaconda3/lib/python3.9/site-packages (from ydata-profiling==0.0.dev0) (0.11.2)\n",
      "Requirement already satisfied: multimethod<2,>=1.4 in /opt/anaconda3/lib/python3.9/site-packages (from ydata-profiling==0.0.dev0) (1.9.1)\n",
      "Requirement already satisfied: statsmodels<1,>=0.13.2 in /opt/anaconda3/lib/python3.9/site-packages (from ydata-profiling==0.0.dev0) (0.13.2)\n",
      "Collecting typeguard<5,>=4.1.2 (from ydata-profiling==0.0.dev0)\n",
      "  Downloading typeguard-4.1.5-py3-none-any.whl (34 kB)\n",
      "Requirement already satisfied: imagehash==4.3.1 in /opt/anaconda3/lib/python3.9/site-packages (from ydata-profiling==0.0.dev0) (4.3.1)\n",
      "Requirement already satisfied: wordcloud>=1.9.1 in /opt/anaconda3/lib/python3.9/site-packages (from ydata-profiling==0.0.dev0) (1.9.2)\n",
      "Requirement already satisfied: dacite>=1.8 in /opt/anaconda3/lib/python3.9/site-packages (from ydata-profiling==0.0.dev0) (1.8.1)\n",
      "Collecting numba<0.59.0,>=0.56.0 (from ydata-profiling==0.0.dev0)\n",
      "  Downloading numba-0.58.1-cp39-cp39-macosx_10_9_x86_64.whl (2.6 MB)\n",
      "\u001b[2K     \u001b[90m━━━━━━━━━━━━━━━━━━━━━━━━━━━━━━━━━━━━━━━━\u001b[0m \u001b[32m2.6/2.6 MB\u001b[0m \u001b[31m2.2 MB/s\u001b[0m eta \u001b[36m0:00:00\u001b[0m00:01\u001b[0m00:01\u001b[0m\n",
      "\u001b[?25hRequirement already satisfied: PyWavelets in /opt/anaconda3/lib/python3.9/site-packages (from imagehash==4.3.1->ydata-profiling==0.0.dev0) (1.3.0)\n",
      "Requirement already satisfied: pillow in /opt/anaconda3/lib/python3.9/site-packages (from imagehash==4.3.1->ydata-profiling==0.0.dev0) (9.2.0)\n",
      "Requirement already satisfied: attrs>=19.3.0 in /opt/anaconda3/lib/python3.9/site-packages (from visions[type_image_path]==0.7.5->ydata-profiling==0.0.dev0) (21.4.0)\n",
      "Requirement already satisfied: networkx>=2.4 in /opt/anaconda3/lib/python3.9/site-packages (from visions[type_image_path]==0.7.5->ydata-profiling==0.0.dev0) (2.8.4)\n",
      "Requirement already satisfied: tangled-up-in-unicode>=0.0.4 in /opt/anaconda3/lib/python3.9/site-packages (from visions[type_image_path]==0.7.5->ydata-profiling==0.0.dev0) (0.2.0)\n",
      "Requirement already satisfied: MarkupSafe>=0.23 in /opt/anaconda3/lib/python3.9/site-packages (from jinja2<3.2,>=2.11.1->ydata-profiling==0.0.dev0) (2.0.1)\n",
      "Requirement already satisfied: cycler>=0.10 in /opt/anaconda3/lib/python3.9/site-packages (from matplotlib<=3.7.3,>=3.2->ydata-profiling==0.0.dev0) (0.11.0)\n",
      "Requirement already satisfied: fonttools>=4.22.0 in /opt/anaconda3/lib/python3.9/site-packages (from matplotlib<=3.7.3,>=3.2->ydata-profiling==0.0.dev0) (4.25.0)\n",
      "Requirement already satisfied: kiwisolver>=1.0.1 in /opt/anaconda3/lib/python3.9/site-packages (from matplotlib<=3.7.3,>=3.2->ydata-profiling==0.0.dev0) (1.4.2)\n",
      "Requirement already satisfied: packaging>=20.0 in /opt/anaconda3/lib/python3.9/site-packages (from matplotlib<=3.7.3,>=3.2->ydata-profiling==0.0.dev0) (21.3)\n",
      "Requirement already satisfied: pyparsing>=2.2.1 in /opt/anaconda3/lib/python3.9/site-packages (from matplotlib<=3.7.3,>=3.2->ydata-profiling==0.0.dev0) (3.0.9)\n",
      "Requirement already satisfied: python-dateutil>=2.7 in /opt/anaconda3/lib/python3.9/site-packages (from matplotlib<=3.7.3,>=3.2->ydata-profiling==0.0.dev0) (2.8.2)\n",
      "Collecting llvmlite<0.42,>=0.41.0dev0 (from numba<0.59.0,>=0.56.0->ydata-profiling==0.0.dev0)\n",
      "  Downloading llvmlite-0.41.1-cp39-cp39-macosx_10_9_x86_64.whl (31.0 MB)\n",
      "\u001b[2K     \u001b[90m━━━━━━━━━━━━━━━━━━━━━━━━━━━━━━━━━━━━━━━━\u001b[0m \u001b[32m31.0/31.0 MB\u001b[0m \u001b[31m3.3 MB/s\u001b[0m eta \u001b[36m0:00:00\u001b[0m00:01\u001b[0m00:01\u001b[0m\n",
      "\u001b[?25hCollecting numpy<1.26,>=1.16.0 (from ydata-profiling==0.0.dev0)\n",
      "  Downloading numpy-1.25.2-cp39-cp39-macosx_10_9_x86_64.whl (20.8 MB)\n",
      "\u001b[2K     \u001b[91m━━━━━━━━━━━━━━━━━━━━━━\u001b[0m\u001b[90m╺\u001b[0m\u001b[90m━━━━━━━━━━━━━━━━━\u001b[0m \u001b[32m11.7/20.8 MB\u001b[0m \u001b[31m1.2 MB/s\u001b[0m eta \u001b[36m0:00:08\u001b[0m^C\n",
      "\u001b[2K     \u001b[91m━━━━━━━━━━━━━━━━━━━━━━\u001b[0m\u001b[91m╸\u001b[0m\u001b[90m━━━━━━━━━━━━━━━━━\u001b[0m \u001b[32m11.8/20.8 MB\u001b[0m \u001b[31m1.2 MB/s\u001b[0m eta \u001b[36m0:00:08\u001b[0m\n",
      "\u001b[?25h\u001b[31mERROR: Operation cancelled by user\u001b[0m\u001b[31m\n",
      "\u001b[0m"
     ]
    },
    {
     "name": "stderr",
     "output_type": "stream",
     "text": [
      "/var/folders/mq/_xn0hpdj6bb_lwn_8qt3420w0000gp/T/ipykernel_10401/3203091329.py:22: DeprecationWarning: `import pandas_profiling` is going to be deprecated by April 1st. Please use `import ydata_profiling` instead.\n",
      "  import pandas_profiling\n"
     ]
    }
   ],
   "source": [
    "#импорт библиотек для работы\n",
    "import pandas as pd\n",
    "import numpy as np\n",
    "import seaborn as sns\n",
    "import matplotlib\n",
    "import matplotlib.pyplot as plt\n",
    "import warnings\n",
    "from scipy import stats as st\n",
    "\n",
    "sns.set(style=\"ticks\")\n",
    "\n",
    "from sklearn.preprocessing import StandardScaler, OneHotEncoder, OrdinalEncoder\n",
    "from sklearn.metrics import mean_absolute_error, mean_absolute_percentage_error, mean_squared_error\n",
    "from sklearn.model_selection import RandomizedSearchCV, train_test_split\n",
    "from sklearn.utils import shuffle\n",
    "from sklearn.linear_model import LinearRegression\n",
    "from sklearn.compose import make_column_transformer\n",
    "from sklearn.ensemble import RandomForestRegressor\n",
    "from sklearn.linear_model import Ridge\n",
    "\n",
    "!pip install https://github.com/pandas-profiling/pandas-profiling/archive/master.zip\n",
    "import pandas_profiling\n",
    "\n",
    "# настройки\n",
    "warnings.filterwarnings(\"ignore\")\n",
    "\n",
    "# константы заглавными буквами\n",
    "RANDOM_STATE = 12345\n",
    "\n",
    "BUDGET = 10_000_000_000\n",
    "COUNT_OF_OIL_WELL = 200\n",
    "INCOME_ONE = 450_000\n"
   ]
  },
  {
   "cell_type": "code",
   "execution_count": 2,
   "metadata": {},
   "outputs": [],
   "source": [
    "#путь к df\n",
    "path_local = '/Users/evgenij/Desktop/DS/git_portfolio/revenue/'"
   ]
  },
  {
   "cell_type": "code",
   "execution_count": 3,
   "metadata": {
    "scrolled": true
   },
   "outputs": [],
   "source": [
    "# импорт датасетов\n",
    "df_0 = pd.read_csv (path_local + 'geo_data_0.csv')\n",
    "df_1 = pd.read_csv (path_local + 'geo_data_1.csv')\n",
    "df_2 = pd.read_csv (path_local + 'geo_data_2.csv')"
   ]
  },
  {
   "cell_type": "code",
   "execution_count": 4,
   "metadata": {
    "scrolled": true
   },
   "outputs": [],
   "source": [
    "# выведем краткую информацию о датасетах, сперва идет функция и три поля с выводом информации о каждом датасете\n",
    "def get_data_info(data):\n",
    "    display(data.sample(5))\n",
    "    display(data.info())\n",
    "    display(data.describe(include='all'))\n",
    "    display(data.duplicated(['f0', 'f1', 'f2', 'product']).sum())"
   ]
  },
  {
   "cell_type": "code",
   "execution_count": 5,
   "metadata": {
    "scrolled": true
   },
   "outputs": [
    {
     "data": {
      "text/html": [
       "<div>\n",
       "<style scoped>\n",
       "    .dataframe tbody tr th:only-of-type {\n",
       "        vertical-align: middle;\n",
       "    }\n",
       "\n",
       "    .dataframe tbody tr th {\n",
       "        vertical-align: top;\n",
       "    }\n",
       "\n",
       "    .dataframe thead th {\n",
       "        text-align: right;\n",
       "    }\n",
       "</style>\n",
       "<table border=\"1\" class=\"dataframe\">\n",
       "  <thead>\n",
       "    <tr style=\"text-align: right;\">\n",
       "      <th></th>\n",
       "      <th>id</th>\n",
       "      <th>f0</th>\n",
       "      <th>f1</th>\n",
       "      <th>f2</th>\n",
       "      <th>product</th>\n",
       "    </tr>\n",
       "  </thead>\n",
       "  <tbody>\n",
       "    <tr>\n",
       "      <th>18190</th>\n",
       "      <td>3WClx</td>\n",
       "      <td>-0.278483</td>\n",
       "      <td>0.917716</td>\n",
       "      <td>0.784686</td>\n",
       "      <td>10.567672</td>\n",
       "    </tr>\n",
       "    <tr>\n",
       "      <th>17904</th>\n",
       "      <td>rvyZb</td>\n",
       "      <td>-0.283333</td>\n",
       "      <td>1.012236</td>\n",
       "      <td>-1.391302</td>\n",
       "      <td>98.376762</td>\n",
       "    </tr>\n",
       "    <tr>\n",
       "      <th>17788</th>\n",
       "      <td>wuvKR</td>\n",
       "      <td>0.887400</td>\n",
       "      <td>0.681596</td>\n",
       "      <td>6.658197</td>\n",
       "      <td>61.614535</td>\n",
       "    </tr>\n",
       "    <tr>\n",
       "      <th>87127</th>\n",
       "      <td>NyhEx</td>\n",
       "      <td>0.404808</td>\n",
       "      <td>0.951422</td>\n",
       "      <td>1.966316</td>\n",
       "      <td>97.028038</td>\n",
       "    </tr>\n",
       "    <tr>\n",
       "      <th>38000</th>\n",
       "      <td>wuf2Z</td>\n",
       "      <td>-0.567908</td>\n",
       "      <td>0.576713</td>\n",
       "      <td>4.463783</td>\n",
       "      <td>155.043724</td>\n",
       "    </tr>\n",
       "  </tbody>\n",
       "</table>\n",
       "</div>"
      ],
      "text/plain": [
       "          id        f0        f1        f2     product\n",
       "18190  3WClx -0.278483  0.917716  0.784686   10.567672\n",
       "17904  rvyZb -0.283333  1.012236 -1.391302   98.376762\n",
       "17788  wuvKR  0.887400  0.681596  6.658197   61.614535\n",
       "87127  NyhEx  0.404808  0.951422  1.966316   97.028038\n",
       "38000  wuf2Z -0.567908  0.576713  4.463783  155.043724"
      ]
     },
     "metadata": {},
     "output_type": "display_data"
    },
    {
     "name": "stdout",
     "output_type": "stream",
     "text": [
      "<class 'pandas.core.frame.DataFrame'>\n",
      "RangeIndex: 100000 entries, 0 to 99999\n",
      "Data columns (total 5 columns):\n",
      " #   Column   Non-Null Count   Dtype  \n",
      "---  ------   --------------   -----  \n",
      " 0   id       100000 non-null  object \n",
      " 1   f0       100000 non-null  float64\n",
      " 2   f1       100000 non-null  float64\n",
      " 3   f2       100000 non-null  float64\n",
      " 4   product  100000 non-null  float64\n",
      "dtypes: float64(4), object(1)\n",
      "memory usage: 3.8+ MB\n"
     ]
    },
    {
     "data": {
      "text/plain": [
       "None"
      ]
     },
     "metadata": {},
     "output_type": "display_data"
    },
    {
     "data": {
      "text/html": [
       "<div>\n",
       "<style scoped>\n",
       "    .dataframe tbody tr th:only-of-type {\n",
       "        vertical-align: middle;\n",
       "    }\n",
       "\n",
       "    .dataframe tbody tr th {\n",
       "        vertical-align: top;\n",
       "    }\n",
       "\n",
       "    .dataframe thead th {\n",
       "        text-align: right;\n",
       "    }\n",
       "</style>\n",
       "<table border=\"1\" class=\"dataframe\">\n",
       "  <thead>\n",
       "    <tr style=\"text-align: right;\">\n",
       "      <th></th>\n",
       "      <th>id</th>\n",
       "      <th>f0</th>\n",
       "      <th>f1</th>\n",
       "      <th>f2</th>\n",
       "      <th>product</th>\n",
       "    </tr>\n",
       "  </thead>\n",
       "  <tbody>\n",
       "    <tr>\n",
       "      <th>count</th>\n",
       "      <td>100000</td>\n",
       "      <td>100000.000000</td>\n",
       "      <td>100000.000000</td>\n",
       "      <td>100000.000000</td>\n",
       "      <td>100000.000000</td>\n",
       "    </tr>\n",
       "    <tr>\n",
       "      <th>unique</th>\n",
       "      <td>99990</td>\n",
       "      <td>NaN</td>\n",
       "      <td>NaN</td>\n",
       "      <td>NaN</td>\n",
       "      <td>NaN</td>\n",
       "    </tr>\n",
       "    <tr>\n",
       "      <th>top</th>\n",
       "      <td>fiKDv</td>\n",
       "      <td>NaN</td>\n",
       "      <td>NaN</td>\n",
       "      <td>NaN</td>\n",
       "      <td>NaN</td>\n",
       "    </tr>\n",
       "    <tr>\n",
       "      <th>freq</th>\n",
       "      <td>2</td>\n",
       "      <td>NaN</td>\n",
       "      <td>NaN</td>\n",
       "      <td>NaN</td>\n",
       "      <td>NaN</td>\n",
       "    </tr>\n",
       "    <tr>\n",
       "      <th>mean</th>\n",
       "      <td>NaN</td>\n",
       "      <td>0.500419</td>\n",
       "      <td>0.250143</td>\n",
       "      <td>2.502647</td>\n",
       "      <td>92.500000</td>\n",
       "    </tr>\n",
       "    <tr>\n",
       "      <th>std</th>\n",
       "      <td>NaN</td>\n",
       "      <td>0.871832</td>\n",
       "      <td>0.504433</td>\n",
       "      <td>3.248248</td>\n",
       "      <td>44.288691</td>\n",
       "    </tr>\n",
       "    <tr>\n",
       "      <th>min</th>\n",
       "      <td>NaN</td>\n",
       "      <td>-1.408605</td>\n",
       "      <td>-0.848218</td>\n",
       "      <td>-12.088328</td>\n",
       "      <td>0.000000</td>\n",
       "    </tr>\n",
       "    <tr>\n",
       "      <th>25%</th>\n",
       "      <td>NaN</td>\n",
       "      <td>-0.072580</td>\n",
       "      <td>-0.200881</td>\n",
       "      <td>0.287748</td>\n",
       "      <td>56.497507</td>\n",
       "    </tr>\n",
       "    <tr>\n",
       "      <th>50%</th>\n",
       "      <td>NaN</td>\n",
       "      <td>0.502360</td>\n",
       "      <td>0.250252</td>\n",
       "      <td>2.515969</td>\n",
       "      <td>91.849972</td>\n",
       "    </tr>\n",
       "    <tr>\n",
       "      <th>75%</th>\n",
       "      <td>NaN</td>\n",
       "      <td>1.073581</td>\n",
       "      <td>0.700646</td>\n",
       "      <td>4.715088</td>\n",
       "      <td>128.564089</td>\n",
       "    </tr>\n",
       "    <tr>\n",
       "      <th>max</th>\n",
       "      <td>NaN</td>\n",
       "      <td>2.362331</td>\n",
       "      <td>1.343769</td>\n",
       "      <td>16.003790</td>\n",
       "      <td>185.364347</td>\n",
       "    </tr>\n",
       "  </tbody>\n",
       "</table>\n",
       "</div>"
      ],
      "text/plain": [
       "            id             f0             f1             f2        product\n",
       "count   100000  100000.000000  100000.000000  100000.000000  100000.000000\n",
       "unique   99990            NaN            NaN            NaN            NaN\n",
       "top      fiKDv            NaN            NaN            NaN            NaN\n",
       "freq         2            NaN            NaN            NaN            NaN\n",
       "mean       NaN       0.500419       0.250143       2.502647      92.500000\n",
       "std        NaN       0.871832       0.504433       3.248248      44.288691\n",
       "min        NaN      -1.408605      -0.848218     -12.088328       0.000000\n",
       "25%        NaN      -0.072580      -0.200881       0.287748      56.497507\n",
       "50%        NaN       0.502360       0.250252       2.515969      91.849972\n",
       "75%        NaN       1.073581       0.700646       4.715088     128.564089\n",
       "max        NaN       2.362331       1.343769      16.003790     185.364347"
      ]
     },
     "metadata": {},
     "output_type": "display_data"
    },
    {
     "data": {
      "text/plain": [
       "0"
      ]
     },
     "metadata": {},
     "output_type": "display_data"
    }
   ],
   "source": [
    "get_data_info(df_0)"
   ]
  },
  {
   "cell_type": "code",
   "execution_count": 6,
   "metadata": {
    "scrolled": true
   },
   "outputs": [
    {
     "data": {
      "text/html": [
       "<div>\n",
       "<style scoped>\n",
       "    .dataframe tbody tr th:only-of-type {\n",
       "        vertical-align: middle;\n",
       "    }\n",
       "\n",
       "    .dataframe tbody tr th {\n",
       "        vertical-align: top;\n",
       "    }\n",
       "\n",
       "    .dataframe thead th {\n",
       "        text-align: right;\n",
       "    }\n",
       "</style>\n",
       "<table border=\"1\" class=\"dataframe\">\n",
       "  <thead>\n",
       "    <tr style=\"text-align: right;\">\n",
       "      <th></th>\n",
       "      <th>id</th>\n",
       "      <th>f0</th>\n",
       "      <th>f1</th>\n",
       "      <th>f2</th>\n",
       "      <th>product</th>\n",
       "    </tr>\n",
       "  </thead>\n",
       "  <tbody>\n",
       "    <tr>\n",
       "      <th>7201</th>\n",
       "      <td>b1xHM</td>\n",
       "      <td>-12.515507</td>\n",
       "      <td>-10.510580</td>\n",
       "      <td>2.001330</td>\n",
       "      <td>57.085625</td>\n",
       "    </tr>\n",
       "    <tr>\n",
       "      <th>80286</th>\n",
       "      <td>BxjRB</td>\n",
       "      <td>2.828758</td>\n",
       "      <td>-12.375329</td>\n",
       "      <td>1.996655</td>\n",
       "      <td>57.085625</td>\n",
       "    </tr>\n",
       "    <tr>\n",
       "      <th>21540</th>\n",
       "      <td>pb31h</td>\n",
       "      <td>4.280399</td>\n",
       "      <td>-8.615953</td>\n",
       "      <td>0.002553</td>\n",
       "      <td>3.179103</td>\n",
       "    </tr>\n",
       "    <tr>\n",
       "      <th>2465</th>\n",
       "      <td>xGjQZ</td>\n",
       "      <td>8.312495</td>\n",
       "      <td>-0.415877</td>\n",
       "      <td>4.996855</td>\n",
       "      <td>134.766305</td>\n",
       "    </tr>\n",
       "    <tr>\n",
       "      <th>77139</th>\n",
       "      <td>GonQQ</td>\n",
       "      <td>-6.272366</td>\n",
       "      <td>-2.041877</td>\n",
       "      <td>1.003163</td>\n",
       "      <td>30.132364</td>\n",
       "    </tr>\n",
       "  </tbody>\n",
       "</table>\n",
       "</div>"
      ],
      "text/plain": [
       "          id         f0         f1        f2     product\n",
       "7201   b1xHM -12.515507 -10.510580  2.001330   57.085625\n",
       "80286  BxjRB   2.828758 -12.375329  1.996655   57.085625\n",
       "21540  pb31h   4.280399  -8.615953  0.002553    3.179103\n",
       "2465   xGjQZ   8.312495  -0.415877  4.996855  134.766305\n",
       "77139  GonQQ  -6.272366  -2.041877  1.003163   30.132364"
      ]
     },
     "metadata": {},
     "output_type": "display_data"
    },
    {
     "name": "stdout",
     "output_type": "stream",
     "text": [
      "<class 'pandas.core.frame.DataFrame'>\n",
      "RangeIndex: 100000 entries, 0 to 99999\n",
      "Data columns (total 5 columns):\n",
      " #   Column   Non-Null Count   Dtype  \n",
      "---  ------   --------------   -----  \n",
      " 0   id       100000 non-null  object \n",
      " 1   f0       100000 non-null  float64\n",
      " 2   f1       100000 non-null  float64\n",
      " 3   f2       100000 non-null  float64\n",
      " 4   product  100000 non-null  float64\n",
      "dtypes: float64(4), object(1)\n",
      "memory usage: 3.8+ MB\n"
     ]
    },
    {
     "data": {
      "text/plain": [
       "None"
      ]
     },
     "metadata": {},
     "output_type": "display_data"
    },
    {
     "data": {
      "text/html": [
       "<div>\n",
       "<style scoped>\n",
       "    .dataframe tbody tr th:only-of-type {\n",
       "        vertical-align: middle;\n",
       "    }\n",
       "\n",
       "    .dataframe tbody tr th {\n",
       "        vertical-align: top;\n",
       "    }\n",
       "\n",
       "    .dataframe thead th {\n",
       "        text-align: right;\n",
       "    }\n",
       "</style>\n",
       "<table border=\"1\" class=\"dataframe\">\n",
       "  <thead>\n",
       "    <tr style=\"text-align: right;\">\n",
       "      <th></th>\n",
       "      <th>id</th>\n",
       "      <th>f0</th>\n",
       "      <th>f1</th>\n",
       "      <th>f2</th>\n",
       "      <th>product</th>\n",
       "    </tr>\n",
       "  </thead>\n",
       "  <tbody>\n",
       "    <tr>\n",
       "      <th>count</th>\n",
       "      <td>100000</td>\n",
       "      <td>100000.000000</td>\n",
       "      <td>100000.000000</td>\n",
       "      <td>100000.000000</td>\n",
       "      <td>100000.000000</td>\n",
       "    </tr>\n",
       "    <tr>\n",
       "      <th>unique</th>\n",
       "      <td>99996</td>\n",
       "      <td>NaN</td>\n",
       "      <td>NaN</td>\n",
       "      <td>NaN</td>\n",
       "      <td>NaN</td>\n",
       "    </tr>\n",
       "    <tr>\n",
       "      <th>top</th>\n",
       "      <td>wt4Uk</td>\n",
       "      <td>NaN</td>\n",
       "      <td>NaN</td>\n",
       "      <td>NaN</td>\n",
       "      <td>NaN</td>\n",
       "    </tr>\n",
       "    <tr>\n",
       "      <th>freq</th>\n",
       "      <td>2</td>\n",
       "      <td>NaN</td>\n",
       "      <td>NaN</td>\n",
       "      <td>NaN</td>\n",
       "      <td>NaN</td>\n",
       "    </tr>\n",
       "    <tr>\n",
       "      <th>mean</th>\n",
       "      <td>NaN</td>\n",
       "      <td>1.141296</td>\n",
       "      <td>-4.796579</td>\n",
       "      <td>2.494541</td>\n",
       "      <td>68.825000</td>\n",
       "    </tr>\n",
       "    <tr>\n",
       "      <th>std</th>\n",
       "      <td>NaN</td>\n",
       "      <td>8.965932</td>\n",
       "      <td>5.119872</td>\n",
       "      <td>1.703572</td>\n",
       "      <td>45.944423</td>\n",
       "    </tr>\n",
       "    <tr>\n",
       "      <th>min</th>\n",
       "      <td>NaN</td>\n",
       "      <td>-31.609576</td>\n",
       "      <td>-26.358598</td>\n",
       "      <td>-0.018144</td>\n",
       "      <td>0.000000</td>\n",
       "    </tr>\n",
       "    <tr>\n",
       "      <th>25%</th>\n",
       "      <td>NaN</td>\n",
       "      <td>-6.298551</td>\n",
       "      <td>-8.267985</td>\n",
       "      <td>1.000021</td>\n",
       "      <td>26.953261</td>\n",
       "    </tr>\n",
       "    <tr>\n",
       "      <th>50%</th>\n",
       "      <td>NaN</td>\n",
       "      <td>1.153055</td>\n",
       "      <td>-4.813172</td>\n",
       "      <td>2.011479</td>\n",
       "      <td>57.085625</td>\n",
       "    </tr>\n",
       "    <tr>\n",
       "      <th>75%</th>\n",
       "      <td>NaN</td>\n",
       "      <td>8.621015</td>\n",
       "      <td>-1.332816</td>\n",
       "      <td>3.999904</td>\n",
       "      <td>107.813044</td>\n",
       "    </tr>\n",
       "    <tr>\n",
       "      <th>max</th>\n",
       "      <td>NaN</td>\n",
       "      <td>29.421755</td>\n",
       "      <td>18.734063</td>\n",
       "      <td>5.019721</td>\n",
       "      <td>137.945408</td>\n",
       "    </tr>\n",
       "  </tbody>\n",
       "</table>\n",
       "</div>"
      ],
      "text/plain": [
       "            id             f0             f1             f2        product\n",
       "count   100000  100000.000000  100000.000000  100000.000000  100000.000000\n",
       "unique   99996            NaN            NaN            NaN            NaN\n",
       "top      wt4Uk            NaN            NaN            NaN            NaN\n",
       "freq         2            NaN            NaN            NaN            NaN\n",
       "mean       NaN       1.141296      -4.796579       2.494541      68.825000\n",
       "std        NaN       8.965932       5.119872       1.703572      45.944423\n",
       "min        NaN     -31.609576     -26.358598      -0.018144       0.000000\n",
       "25%        NaN      -6.298551      -8.267985       1.000021      26.953261\n",
       "50%        NaN       1.153055      -4.813172       2.011479      57.085625\n",
       "75%        NaN       8.621015      -1.332816       3.999904     107.813044\n",
       "max        NaN      29.421755      18.734063       5.019721     137.945408"
      ]
     },
     "metadata": {},
     "output_type": "display_data"
    },
    {
     "data": {
      "text/plain": [
       "0"
      ]
     },
     "metadata": {},
     "output_type": "display_data"
    }
   ],
   "source": [
    "get_data_info(df_1)"
   ]
  },
  {
   "cell_type": "code",
   "execution_count": 7,
   "metadata": {
    "scrolled": true
   },
   "outputs": [
    {
     "data": {
      "text/html": [
       "<div>\n",
       "<style scoped>\n",
       "    .dataframe tbody tr th:only-of-type {\n",
       "        vertical-align: middle;\n",
       "    }\n",
       "\n",
       "    .dataframe tbody tr th {\n",
       "        vertical-align: top;\n",
       "    }\n",
       "\n",
       "    .dataframe thead th {\n",
       "        text-align: right;\n",
       "    }\n",
       "</style>\n",
       "<table border=\"1\" class=\"dataframe\">\n",
       "  <thead>\n",
       "    <tr style=\"text-align: right;\">\n",
       "      <th></th>\n",
       "      <th>id</th>\n",
       "      <th>f0</th>\n",
       "      <th>f1</th>\n",
       "      <th>f2</th>\n",
       "      <th>product</th>\n",
       "    </tr>\n",
       "  </thead>\n",
       "  <tbody>\n",
       "    <tr>\n",
       "      <th>59943</th>\n",
       "      <td>Mf5Oo</td>\n",
       "      <td>-2.925211</td>\n",
       "      <td>-1.616438</td>\n",
       "      <td>1.204724</td>\n",
       "      <td>64.806172</td>\n",
       "    </tr>\n",
       "    <tr>\n",
       "      <th>77261</th>\n",
       "      <td>n9s8V</td>\n",
       "      <td>-0.415124</td>\n",
       "      <td>-0.023258</td>\n",
       "      <td>0.810308</td>\n",
       "      <td>134.509775</td>\n",
       "    </tr>\n",
       "    <tr>\n",
       "      <th>30994</th>\n",
       "      <td>J1oLs</td>\n",
       "      <td>0.047803</td>\n",
       "      <td>-0.431389</td>\n",
       "      <td>4.067532</td>\n",
       "      <td>10.346698</td>\n",
       "    </tr>\n",
       "    <tr>\n",
       "      <th>73680</th>\n",
       "      <td>MrAPx</td>\n",
       "      <td>0.525777</td>\n",
       "      <td>-0.420544</td>\n",
       "      <td>-3.141004</td>\n",
       "      <td>31.469946</td>\n",
       "    </tr>\n",
       "    <tr>\n",
       "      <th>593</th>\n",
       "      <td>HhiSc</td>\n",
       "      <td>1.734865</td>\n",
       "      <td>2.060481</td>\n",
       "      <td>1.709261</td>\n",
       "      <td>64.061437</td>\n",
       "    </tr>\n",
       "  </tbody>\n",
       "</table>\n",
       "</div>"
      ],
      "text/plain": [
       "          id        f0        f1        f2     product\n",
       "59943  Mf5Oo -2.925211 -1.616438  1.204724   64.806172\n",
       "77261  n9s8V -0.415124 -0.023258  0.810308  134.509775\n",
       "30994  J1oLs  0.047803 -0.431389  4.067532   10.346698\n",
       "73680  MrAPx  0.525777 -0.420544 -3.141004   31.469946\n",
       "593    HhiSc  1.734865  2.060481  1.709261   64.061437"
      ]
     },
     "metadata": {},
     "output_type": "display_data"
    },
    {
     "name": "stdout",
     "output_type": "stream",
     "text": [
      "<class 'pandas.core.frame.DataFrame'>\n",
      "RangeIndex: 100000 entries, 0 to 99999\n",
      "Data columns (total 5 columns):\n",
      " #   Column   Non-Null Count   Dtype  \n",
      "---  ------   --------------   -----  \n",
      " 0   id       100000 non-null  object \n",
      " 1   f0       100000 non-null  float64\n",
      " 2   f1       100000 non-null  float64\n",
      " 3   f2       100000 non-null  float64\n",
      " 4   product  100000 non-null  float64\n",
      "dtypes: float64(4), object(1)\n",
      "memory usage: 3.8+ MB\n"
     ]
    },
    {
     "data": {
      "text/plain": [
       "None"
      ]
     },
     "metadata": {},
     "output_type": "display_data"
    },
    {
     "data": {
      "text/html": [
       "<div>\n",
       "<style scoped>\n",
       "    .dataframe tbody tr th:only-of-type {\n",
       "        vertical-align: middle;\n",
       "    }\n",
       "\n",
       "    .dataframe tbody tr th {\n",
       "        vertical-align: top;\n",
       "    }\n",
       "\n",
       "    .dataframe thead th {\n",
       "        text-align: right;\n",
       "    }\n",
       "</style>\n",
       "<table border=\"1\" class=\"dataframe\">\n",
       "  <thead>\n",
       "    <tr style=\"text-align: right;\">\n",
       "      <th></th>\n",
       "      <th>id</th>\n",
       "      <th>f0</th>\n",
       "      <th>f1</th>\n",
       "      <th>f2</th>\n",
       "      <th>product</th>\n",
       "    </tr>\n",
       "  </thead>\n",
       "  <tbody>\n",
       "    <tr>\n",
       "      <th>count</th>\n",
       "      <td>100000</td>\n",
       "      <td>100000.000000</td>\n",
       "      <td>100000.000000</td>\n",
       "      <td>100000.000000</td>\n",
       "      <td>100000.000000</td>\n",
       "    </tr>\n",
       "    <tr>\n",
       "      <th>unique</th>\n",
       "      <td>99996</td>\n",
       "      <td>NaN</td>\n",
       "      <td>NaN</td>\n",
       "      <td>NaN</td>\n",
       "      <td>NaN</td>\n",
       "    </tr>\n",
       "    <tr>\n",
       "      <th>top</th>\n",
       "      <td>VF7Jo</td>\n",
       "      <td>NaN</td>\n",
       "      <td>NaN</td>\n",
       "      <td>NaN</td>\n",
       "      <td>NaN</td>\n",
       "    </tr>\n",
       "    <tr>\n",
       "      <th>freq</th>\n",
       "      <td>2</td>\n",
       "      <td>NaN</td>\n",
       "      <td>NaN</td>\n",
       "      <td>NaN</td>\n",
       "      <td>NaN</td>\n",
       "    </tr>\n",
       "    <tr>\n",
       "      <th>mean</th>\n",
       "      <td>NaN</td>\n",
       "      <td>0.002023</td>\n",
       "      <td>-0.002081</td>\n",
       "      <td>2.495128</td>\n",
       "      <td>95.000000</td>\n",
       "    </tr>\n",
       "    <tr>\n",
       "      <th>std</th>\n",
       "      <td>NaN</td>\n",
       "      <td>1.732045</td>\n",
       "      <td>1.730417</td>\n",
       "      <td>3.473445</td>\n",
       "      <td>44.749921</td>\n",
       "    </tr>\n",
       "    <tr>\n",
       "      <th>min</th>\n",
       "      <td>NaN</td>\n",
       "      <td>-8.760004</td>\n",
       "      <td>-7.084020</td>\n",
       "      <td>-11.970335</td>\n",
       "      <td>0.000000</td>\n",
       "    </tr>\n",
       "    <tr>\n",
       "      <th>25%</th>\n",
       "      <td>NaN</td>\n",
       "      <td>-1.162288</td>\n",
       "      <td>-1.174820</td>\n",
       "      <td>0.130359</td>\n",
       "      <td>59.450441</td>\n",
       "    </tr>\n",
       "    <tr>\n",
       "      <th>50%</th>\n",
       "      <td>NaN</td>\n",
       "      <td>0.009424</td>\n",
       "      <td>-0.009482</td>\n",
       "      <td>2.484236</td>\n",
       "      <td>94.925613</td>\n",
       "    </tr>\n",
       "    <tr>\n",
       "      <th>75%</th>\n",
       "      <td>NaN</td>\n",
       "      <td>1.158535</td>\n",
       "      <td>1.163678</td>\n",
       "      <td>4.858794</td>\n",
       "      <td>130.595027</td>\n",
       "    </tr>\n",
       "    <tr>\n",
       "      <th>max</th>\n",
       "      <td>NaN</td>\n",
       "      <td>7.238262</td>\n",
       "      <td>7.844801</td>\n",
       "      <td>16.739402</td>\n",
       "      <td>190.029838</td>\n",
       "    </tr>\n",
       "  </tbody>\n",
       "</table>\n",
       "</div>"
      ],
      "text/plain": [
       "            id             f0             f1             f2        product\n",
       "count   100000  100000.000000  100000.000000  100000.000000  100000.000000\n",
       "unique   99996            NaN            NaN            NaN            NaN\n",
       "top      VF7Jo            NaN            NaN            NaN            NaN\n",
       "freq         2            NaN            NaN            NaN            NaN\n",
       "mean       NaN       0.002023      -0.002081       2.495128      95.000000\n",
       "std        NaN       1.732045       1.730417       3.473445      44.749921\n",
       "min        NaN      -8.760004      -7.084020     -11.970335       0.000000\n",
       "25%        NaN      -1.162288      -1.174820       0.130359      59.450441\n",
       "50%        NaN       0.009424      -0.009482       2.484236      94.925613\n",
       "75%        NaN       1.158535       1.163678       4.858794     130.595027\n",
       "max        NaN       7.238262       7.844801      16.739402     190.029838"
      ]
     },
     "metadata": {},
     "output_type": "display_data"
    },
    {
     "data": {
      "text/plain": [
       "0"
      ]
     },
     "metadata": {},
     "output_type": "display_data"
    }
   ],
   "source": [
    "get_data_info(df_2)"
   ]
  },
  {
   "cell_type": "markdown",
   "metadata": {},
   "source": [
    "## Обучение и проверка модели"
   ]
  },
  {
   "cell_type": "markdown",
   "metadata": {},
   "source": [
    "### подготовительная часть\n",
    "\n",
    "ниже для выполнения задачи сделана функция training_model, которая:\n",
    "\n",
    "- выделяет фичи и таргет;\n",
    "- разбивает датасет на тренировочную и валидационную выборки в отношении 75:25;\n",
    "- выделяет и масштабирует численные признаки;\n",
    "- удаляет столбец с данными id (для корректного обучения модели);\n",
    "- выводит график о значимости влияния фичей на таргет;\n",
    "- обучает модель LinearRegression и делает предсказания по валидационной выборке;\n",
    "- рассчитывает RMSE (и несколько других метрик) и средний запас предсказанного сырья\n",
    "\n",
    "на экран выводится следующая информация:\n",
    "\n",
    "- RMSE модели;\n",
    "- средний запас предсказанного сырья;\n",
    "- средний запас сырья по датасету\n",
    "\n",
    "Функция возвращает два значения - предсказанные ответы (predicted_valid) и правильные ответы (target_valid)\n"
   ]
  },
  {
   "cell_type": "markdown",
   "metadata": {},
   "source": [
    "### выводы согласно задаче:\n",
    "\n",
    "для первого датасета получились такие результаты:\n",
    "\n",
    "    RMSE: 37.5794217150813\n",
    "    средний запас предсказанного сырья: 92.59256778438035\n",
    "    средний запас сырья: 92.50000000000001\n",
    "\n",
    "для второго датасета:\n",
    "\n",
    "    RMSE: 0.893099286775617\n",
    "    средний запас предсказанного сырья: 68.728546895446\n",
    "    средний запас сырья: 68.82500000000002\n",
    "\n",
    "для третьего датасета:\n",
    "\n",
    "    RMSE: 40.02970873393434\n",
    "    средний запас предсказанного сырья: 94.96504596800489\n",
    "    средний запас сырья: 95.00000000000004\n",
    "\n",
    "по итогам обучения модели по разным датасетам самая низкая и лучшая метрика RMSE у модели, обучающейся на первом датасете. При этом средний запас предсказанного сырья все модели оценивают адекватно относительно среднего значения запаса сырья.\n",
    "\n",
    "дополнительная информация\n",
    "\n",
    "В части второго датасета df_1 стоит обратить внимание, что ярко выражено влияние одной из фичей (f2), при этом остальные (f0 и f1) не оказывают никакого влияния на таргет. Для остальных датасетов (df_0 и df_2) также наблюдается среднее влияние f2 на таргет, но при этом остальные фичи также имеют влияние.\n",
    "\n",
    "Также в первой главе проекта при построении отчета наблюдается сильная корреляция для df1 между product (таргет) и f2 (фича).\n",
    "\n",
    "Рекомендуется при выборе модели учитывать, что модель df_1 имеет лучшие показатели RMSE относительно других (df_0 & df_2)."
   ]
  },
  {
   "cell_type": "code",
   "execution_count": 11,
   "metadata": {},
   "outputs": [],
   "source": [
    "#функция на вход которой подается датасет, в функции назначаются цели и фичи, разбиваются выборки, проводится масштабирование\n",
    "#числовых данных и отбрасывается столбец с id номером, обучается модель и делается предсказания на валидационной выборке.\n",
    "# также функция выдает информацию о влиянии фичей на цель\n",
    "# рассчитывается RMSE и другие метрики и на выходе функции выдается: предсказания и правильные ответы на валидационной выборке \n",
    "# и выводится на экран RMSE, средний запас предсказанного сырья и среднй запас сырья по датасету\n",
    "def training_model (data, drop_column = 'id', target_column = 'product'):\n",
    "#назначим фичи и цель\n",
    "    target = data[target_column]\n",
    "    features = data.drop(target_column, axis=1)\n",
    "#разобьем на тренировочную и валидационную выборки (пропорция 75:25)\n",
    "    features_train, features_valid, target_train, target_valid = train_test_split(\n",
    "    features, target, test_size=0.25, random_state=RANDOM_STATE)\n",
    "    \n",
    "    \n",
    "#удалим столбцы с id номером    \n",
    "    features_train = features_train.drop(drop_column, axis=1)\n",
    "    features_valid = features_valid.drop(drop_column, axis=1)\n",
    "\n",
    "#выведем численные признаки\n",
    "    num_features = features_train.select_dtypes(exclude='object').columns.to_list()    \n",
    "    \n",
    "#выведем информацию о влиянии фичей на цель\n",
    "#________начало блока_____________\n",
    "    ss = StandardScaler()\n",
    "    X_train_scaled = ss.fit_transform(features_train)\n",
    "    X_test_scaled = ss.transform(features_valid)\n",
    "    y_train = np.array(target_train)\n",
    "\n",
    "    rfc = RandomForestRegressor()\n",
    "    rfc.fit(X_train_scaled, y_train)\n",
    "    display(rfc.score(X_train_scaled, target_train))\n",
    "\n",
    "    feats = {}\n",
    "    for feature, importance in zip(features_train.columns, rfc.feature_importances_):\n",
    "        feats[feature] = importance\n",
    "    importances = pd.DataFrame.from_dict(feats, orient='index').rename(columns={0: 'Gini-Importance'})\n",
    "    importances = importances.sort_values(by='Gini-Importance', ascending=False)\n",
    "    importances = importances.reset_index()\n",
    "    importances = importances.rename(columns={'index': 'Features'})\n",
    "    sns.set(font_scale = 5)\n",
    "    sns.set(style=\"whitegrid\", color_codes=True, font_scale = 1.7)\n",
    "    fig, ax = plt.subplots()\n",
    "    fig.set_size_inches(30,15)\n",
    "    sns.barplot(x=importances['Gini-Importance'], y=importances['Features'], data=importances, color='skyblue')\n",
    "    plt.xlabel('Важность features', fontsize=25, weight = 'bold')\n",
    "    plt.ylabel('Признаки', fontsize=25, weight = 'bold')\n",
    "    plt.title('Влияние features на target', fontsize=25, weight = 'bold')\n",
    "    display(plt.show())\n",
    "    display(importances)    \n",
    "#________конец блока_____________\n",
    "    \n",
    "# масштабируем численные признаки\n",
    "    pd.options.mode.chained_assignment = None\n",
    "    scaler = StandardScaler()\n",
    "    scaler.fit(features_train[num_features])\n",
    "    features_train[num_features] = scaler.transform(features_train[num_features])\n",
    "    features_valid[num_features] = scaler.transform(features_valid[num_features])\n",
    "    \n",
    "#обучим модель и сделаем предсказание\n",
    "    model = LinearRegression()\n",
    "    model.fit(features_train, target_train)\n",
    "    predicted_valid = model.predict(features_valid)\n",
    "    predicted_valid = pd.Series(predicted_valid)\n",
    "#посчитаем метрики\n",
    "    result = (mean_squared_error(target_valid, predicted_valid))**0.5\n",
    "    print(\"RMSE:\", result)\n",
    "    mae = mean_absolute_error(target_valid, predicted_valid)\n",
    "    print('MAE:', mae)\n",
    "    mape = mean_absolute_percentage_error(target_valid, predicted_valid)\n",
    "    print('MAPE:', mape)\n",
    "    \n",
    "    print('средний запас предсказанного сырья:',round(predicted_valid.mean(),3))\n",
    "    print('средний запас сырья:',round(target.mean(),3))\n",
    "    \n",
    "\n",
    "# возвращаем для дальнейшей работы массив предсказанных данных и массив правильных ответов    \n",
    "    return predicted_valid, target_valid, result"
   ]
  },
  {
   "cell_type": "code",
   "execution_count": 12,
   "metadata": {},
   "outputs": [
    {
     "data": {
      "text/plain": [
       "0.8918648390152065"
      ]
     },
     "metadata": {},
     "output_type": "display_data"
    },
    {
     "data": {
      "text/plain": [
       "None"
      ]
     },
     "metadata": {},
     "output_type": "display_data"
    },
    {
     "data": {
      "text/html": [
       "<div>\n",
       "<style scoped>\n",
       "    .dataframe tbody tr th:only-of-type {\n",
       "        vertical-align: middle;\n",
       "    }\n",
       "\n",
       "    .dataframe tbody tr th {\n",
       "        vertical-align: top;\n",
       "    }\n",
       "\n",
       "    .dataframe thead th {\n",
       "        text-align: right;\n",
       "    }\n",
       "</style>\n",
       "<table border=\"1\" class=\"dataframe\">\n",
       "  <thead>\n",
       "    <tr style=\"text-align: right;\">\n",
       "      <th></th>\n",
       "      <th>Features</th>\n",
       "      <th>Gini-Importance</th>\n",
       "    </tr>\n",
       "  </thead>\n",
       "  <tbody>\n",
       "    <tr>\n",
       "      <th>0</th>\n",
       "      <td>f2</td>\n",
       "      <td>0.472152</td>\n",
       "    </tr>\n",
       "    <tr>\n",
       "      <th>1</th>\n",
       "      <td>f1</td>\n",
       "      <td>0.269935</td>\n",
       "    </tr>\n",
       "    <tr>\n",
       "      <th>2</th>\n",
       "      <td>f0</td>\n",
       "      <td>0.257914</td>\n",
       "    </tr>\n",
       "  </tbody>\n",
       "</table>\n",
       "</div>"
      ],
      "text/plain": [
       "  Features  Gini-Importance\n",
       "0       f2         0.472152\n",
       "1       f1         0.269935\n",
       "2       f0         0.257914"
      ]
     },
     "metadata": {},
     "output_type": "display_data"
    },
    {
     "name": "stdout",
     "output_type": "stream",
     "text": [
      "RMSE: 37.5794217150813\n",
      "MAE: 30.919600777151313\n",
      "MAPE: 2.1224513911488185\n",
      "средний запас предсказанного сырья: 92.593\n",
      "средний запас сырья: 92.5\n"
     ]
    }
   ],
   "source": [
    "# выведем информацию по обучению модели на первом датасете df_0 и сохраним для него предсказанные ответы и правильные ответы\n",
    "predicted_valid_0, target_valid_0, result_0 = training_model(df_0)"
   ]
  },
  {
   "cell_type": "code",
   "execution_count": 13,
   "metadata": {},
   "outputs": [
    {
     "data": {
      "text/plain": [
       "0.9999635372625467"
      ]
     },
     "metadata": {},
     "output_type": "display_data"
    },
    {
     "data": {
      "text/plain": [
       "None"
      ]
     },
     "metadata": {},
     "output_type": "display_data"
    },
    {
     "data": {
      "text/html": [
       "<div>\n",
       "<style scoped>\n",
       "    .dataframe tbody tr th:only-of-type {\n",
       "        vertical-align: middle;\n",
       "    }\n",
       "\n",
       "    .dataframe tbody tr th {\n",
       "        vertical-align: top;\n",
       "    }\n",
       "\n",
       "    .dataframe thead th {\n",
       "        text-align: right;\n",
       "    }\n",
       "</style>\n",
       "<table border=\"1\" class=\"dataframe\">\n",
       "  <thead>\n",
       "    <tr style=\"text-align: right;\">\n",
       "      <th></th>\n",
       "      <th>Features</th>\n",
       "      <th>Gini-Importance</th>\n",
       "    </tr>\n",
       "  </thead>\n",
       "  <tbody>\n",
       "    <tr>\n",
       "      <th>0</th>\n",
       "      <td>f2</td>\n",
       "      <td>0.998877</td>\n",
       "    </tr>\n",
       "    <tr>\n",
       "      <th>1</th>\n",
       "      <td>f0</td>\n",
       "      <td>0.001038</td>\n",
       "    </tr>\n",
       "    <tr>\n",
       "      <th>2</th>\n",
       "      <td>f1</td>\n",
       "      <td>0.000085</td>\n",
       "    </tr>\n",
       "  </tbody>\n",
       "</table>\n",
       "</div>"
      ],
      "text/plain": [
       "  Features  Gini-Importance\n",
       "0       f2         0.998877\n",
       "1       f0         0.001038\n",
       "2       f1         0.000085"
      ]
     },
     "metadata": {},
     "output_type": "display_data"
    },
    {
     "name": "stdout",
     "output_type": "stream",
     "text": [
      "RMSE: 0.8930992867756168\n",
      "MAE: 0.7187662442124757\n",
      "MAPE: 270028896017520.3\n",
      "средний запас предсказанного сырья: 68.729\n",
      "средний запас сырья: 68.825\n"
     ]
    }
   ],
   "source": [
    "# аналогичная работа для второго датасета df_1\n",
    "predicted_valid_1, target_valid_1, result_1 = training_model(df_1)"
   ]
  },
  {
   "cell_type": "code",
   "execution_count": 14,
   "metadata": {},
   "outputs": [
    {
     "data": {
      "text/plain": [
       "0.8922956470486232"
      ]
     },
     "metadata": {},
     "output_type": "display_data"
    },
    {
     "data": {
      "text/plain": [
       "None"
      ]
     },
     "metadata": {},
     "output_type": "display_data"
    },
    {
     "data": {
      "text/html": [
       "<div>\n",
       "<style scoped>\n",
       "    .dataframe tbody tr th:only-of-type {\n",
       "        vertical-align: middle;\n",
       "    }\n",
       "\n",
       "    .dataframe tbody tr th {\n",
       "        vertical-align: top;\n",
       "    }\n",
       "\n",
       "    .dataframe thead th {\n",
       "        text-align: right;\n",
       "    }\n",
       "</style>\n",
       "<table border=\"1\" class=\"dataframe\">\n",
       "  <thead>\n",
       "    <tr style=\"text-align: right;\">\n",
       "      <th></th>\n",
       "      <th>Features</th>\n",
       "      <th>Gini-Importance</th>\n",
       "    </tr>\n",
       "  </thead>\n",
       "  <tbody>\n",
       "    <tr>\n",
       "      <th>0</th>\n",
       "      <td>f2</td>\n",
       "      <td>0.431738</td>\n",
       "    </tr>\n",
       "    <tr>\n",
       "      <th>1</th>\n",
       "      <td>f1</td>\n",
       "      <td>0.285344</td>\n",
       "    </tr>\n",
       "    <tr>\n",
       "      <th>2</th>\n",
       "      <td>f0</td>\n",
       "      <td>0.282918</td>\n",
       "    </tr>\n",
       "  </tbody>\n",
       "</table>\n",
       "</div>"
      ],
      "text/plain": [
       "  Features  Gini-Importance\n",
       "0       f2         0.431738\n",
       "1       f1         0.285344\n",
       "2       f0         0.282918"
      ]
     },
     "metadata": {},
     "output_type": "display_data"
    },
    {
     "name": "stdout",
     "output_type": "stream",
     "text": [
      "RMSE: 40.02970873393434\n",
      "MAE: 32.792652105481814\n",
      "MAPE: 10315299110670.121\n",
      "средний запас предсказанного сырья: 94.965\n",
      "средний запас сырья: 95.0\n"
     ]
    }
   ],
   "source": [
    "# аналогичная работа для второго датасета df_2\n",
    "predicted_valid_2, target_valid_2, result_2 = training_model(df_2)"
   ]
  },
  {
   "cell_type": "markdown",
   "metadata": {},
   "source": [
    "### **важное наблюдение**\n",
    "\n",
    "при дальнейшей работе на этапе построения возможной прибыли для датасета по второму региону наблюдается, что модель предсказывает отрицательные значения продукта. Возможно, имеет влияение фичей f0 & f1, которые правда не оказывают влияния на целевой параметр (корреляция почти нулевая). Для теста ниже построена вторая модель по второму региону, из параметров оставлена только f2."
   ]
  },
  {
   "cell_type": "code",
   "execution_count": 15,
   "metadata": {},
   "outputs": [
    {
     "data": {
      "text/plain": [
       "0.9996401542197287"
      ]
     },
     "metadata": {},
     "output_type": "display_data"
    },
    {
     "data": {
      "text/plain": [
       "None"
      ]
     },
     "metadata": {},
     "output_type": "display_data"
    },
    {
     "data": {
      "text/html": [
       "<div>\n",
       "<style scoped>\n",
       "    .dataframe tbody tr th:only-of-type {\n",
       "        vertical-align: middle;\n",
       "    }\n",
       "\n",
       "    .dataframe tbody tr th {\n",
       "        vertical-align: top;\n",
       "    }\n",
       "\n",
       "    .dataframe thead th {\n",
       "        text-align: right;\n",
       "    }\n",
       "</style>\n",
       "<table border=\"1\" class=\"dataframe\">\n",
       "  <thead>\n",
       "    <tr style=\"text-align: right;\">\n",
       "      <th></th>\n",
       "      <th>Features</th>\n",
       "      <th>Gini-Importance</th>\n",
       "    </tr>\n",
       "  </thead>\n",
       "  <tbody>\n",
       "    <tr>\n",
       "      <th>0</th>\n",
       "      <td>f2</td>\n",
       "      <td>1.0</td>\n",
       "    </tr>\n",
       "  </tbody>\n",
       "</table>\n",
       "</div>"
      ],
      "text/plain": [
       "  Features  Gini-Importance\n",
       "0       f2              1.0"
      ]
     },
     "metadata": {},
     "output_type": "display_data"
    },
    {
     "name": "stdout",
     "output_type": "stream",
     "text": [
      "RMSE: 1.5942275477363055\n",
      "MAE: 1.5884709258698513\n",
      "MAPE: 592101945503034.2\n",
      "средний запас предсказанного сырья: 68.729\n",
      "средний запас сырья: 68.825\n"
     ]
    }
   ],
   "source": [
    "# построим модель для данных по второму региону,оставив только одну фичу\n",
    "predicted_valid_1_v2, target_valid_1_v2, result_1_v2 = training_model(df_1, drop_column = ['id', 'f0', 'f1'])"
   ]
  },
  {
   "cell_type": "markdown",
   "metadata": {},
   "source": [
    "## Подготовка к расчёту прибыли"
   ]
  },
  {
   "cell_type": "markdown",
   "metadata": {},
   "source": [
    "### Ключевые значения\n",
    "Все ключевые значения для расчётов сохранены в отдельных переменных: budget, count_of_oil_well & income_one.\n",
    " \n",
    "Из условий задачи:\n",
    "\n",
    "При разведке региона исследуют 500 точек, из которых с помощью машинного обучения выбирают 200 лучших для разработки.\n",
    "Бюджет на разработку скважин в регионе — 10 млрд рублей.\n",
    "При нынешних ценах один баррель сырья приносит 450 рублей дохода. Доход с каждой единицы продукта составляет 450 тыс. рублей, поскольку объём указан в тысячах баррелей.\n",
    "\n"
   ]
  },
  {
   "cell_type": "code",
   "execution_count": 16,
   "metadata": {},
   "outputs": [
    {
     "name": "stdout",
     "output_type": "stream",
     "text": [
      "достаточный объём сырья для безубыточной разработки новой скважины: 111.111\n"
     ]
    }
   ],
   "source": [
    "# рассчитаем сколько тыс. баррелей нефти нужно добыть, чтобы отбить в ноль бюджет на разработку скважин в регионе.\n",
    "# возьмем весь бюджет в 10 млрд рублей, разделим на 450 тыс рублей (доход с 1 тыс бареллей) и разделим на 200 точек дла разработки\n",
    "# получим сколько должна точка выдавать минимум тыс бареллей нефти, чтобы отбить затраты на разработку скважин \n",
    "\n",
    "\n",
    "target_mean_barel = BUDGET / INCOME_ONE / COUNT_OF_OIL_WELL\n",
    "print('достаточный объём сырья для безубыточной разработки новой скважины:',round(target_mean_barel,3))"
   ]
  },
  {
   "cell_type": "markdown",
   "metadata": {},
   "source": [
    "###  Сравнение полученного объёма сырья со средним запасом в каждом регионе. "
   ]
  },
  {
   "cell_type": "code",
   "execution_count": 17,
   "metadata": {},
   "outputs": [],
   "source": [
    "#функция проверяем по условиям задачи убытки в 2,5%\n",
    "def check_loss (name):\n",
    "    balance_ = -round(100 - name.mean()*100/target_mean_barel, 2)\n",
    "    print('относительная разница между предсказанным моделью средним объемом и минимальным безубыточным объемом сырья:',\n",
    "          balance_)\n",
    "    if balance_ > 2.5:\n",
    "        print('вероятность убытков выше 2,5%')\n",
    "    else:\n",
    "        print('вероятность убытков ниже 2,5%')\n",
    "    return balance_"
   ]
  },
  {
   "cell_type": "code",
   "execution_count": 18,
   "metadata": {},
   "outputs": [
    {
     "name": "stdout",
     "output_type": "stream",
     "text": [
      "относительная разница между предсказанным моделью средним объемом и минимальным безубыточным объемом сырья: -16.67\n",
      "вероятность убытков ниже 2,5%\n"
     ]
    }
   ],
   "source": [
    "# проверим разницу между предсказанным средним значением сырья по первой модели и безубыточным значением для разработки новой скважины\n",
    "balance_0 = check_loss(predicted_valid_0)"
   ]
  },
  {
   "cell_type": "code",
   "execution_count": 19,
   "metadata": {},
   "outputs": [
    {
     "name": "stdout",
     "output_type": "stream",
     "text": [
      "относительная разница между предсказанным моделью средним объемом и минимальным безубыточным объемом сырья: -38.14\n",
      "вероятность убытков ниже 2,5%\n"
     ]
    }
   ],
   "source": [
    "#аналогично для второй модели\n",
    "balance_1 = check_loss(predicted_valid_1)"
   ]
  },
  {
   "cell_type": "code",
   "execution_count": 20,
   "metadata": {},
   "outputs": [
    {
     "name": "stdout",
     "output_type": "stream",
     "text": [
      "относительная разница между предсказанным моделью средним объемом и минимальным безубыточным объемом сырья: -38.14\n",
      "вероятность убытков ниже 2,5%\n"
     ]
    }
   ],
   "source": [
    "#аналогично для второй модели\n",
    "balance_1_v2 = check_loss(predicted_valid_1_v2)"
   ]
  },
  {
   "cell_type": "code",
   "execution_count": 21,
   "metadata": {},
   "outputs": [
    {
     "name": "stdout",
     "output_type": "stream",
     "text": [
      "относительная разница между предсказанным моделью средним объемом и минимальным безубыточным объемом сырья: -14.53\n",
      "вероятность убытков ниже 2,5%\n"
     ]
    }
   ],
   "source": [
    "#аналогично для третьей модели\n",
    "balance_2 = check_loss(predicted_valid_2)"
   ]
  },
  {
   "cell_type": "markdown",
   "metadata": {},
   "source": [
    "### **наблюдения:**\n",
    "\n",
    "по расчетам минимальным объемом сырья для безубыточной разработки новой скважины рассчитаем в 111,11 тыс. бареллей\n",
    "\n",
    "если сравнить со средними значениями в каждом регионе: 1 регион - 92,5 тыс. бареллей, 2 регион - 68,7 тыс. бареллей и 3 регион - 94,9 тыс. бараллей, то по условиям задачи (оставить лишь те регионы, в которых вероятность убытков меньше 2.5%)"
   ]
  },
  {
   "cell_type": "markdown",
   "metadata": {},
   "source": [
    "## Расчёт прибыли и рисков "
   ]
  },
  {
   "cell_type": "markdown",
   "metadata": {},
   "source": [
    "### подготовительная часть\n",
    "\n",
    "ниже представлена функция, которая:\n",
    "- выбирает скважины с максимальными значениями предсказаний;\n",
    "- суммирует целевое значение объёма сырья, соответствующее этим предсказаниям;\n",
    "- рассчитывает прибыль для полученного объёма сырья;\n",
    "- применяется техника Bootstrap с 1000 выборок, чтобы найти распределение прибыли;\n",
    "\n",
    "на выходе функции выдается  средняя прибыль, 95%-й доверительный интервал и риск убытков."
   ]
  },
  {
   "cell_type": "code",
   "execution_count": 22,
   "metadata": {},
   "outputs": [],
   "source": [
    "def revenue_full (predicted_valid, target_valid):\n",
    "# сбросим индексы в target_valid\n",
    "    target_valid = target_valid.reset_index(drop=True)\n",
    "# заявим state\n",
    "    state = np.random.RandomState(12345)\n",
    "# сделаем вложенную функцию, которая подсчитывает и возвращает выручку.  \n",
    "    def revenue_in(target, probabilities, count):\n",
    "\n",
    "\n",
    "        probs_sorted = probabilities.sort_values(ascending=False)\n",
    "        selected = target[probs_sorted.index][:count]\n",
    "        return INCOME_ONE * selected.sum() - BUDGET\n",
    "#Применим технику Bootstrap с 1000 выборок, чтобы найти распределение прибыли\n",
    "# для target_subsample берем n=500 (При разведке региона исследуют 500 точек), при расчете выручки берем 200 лучших точек\n",
    "    values = []\n",
    "    for i in range(1000):\n",
    "        target_subsample = target_valid.sample (n=500, replace=True, random_state=state)\n",
    "        probs_subsample = predicted_valid[target_subsample.index]\n",
    "    \n",
    "        values.append(revenue_in(target_subsample, probs_subsample,COUNT_OF_OIL_WELL))    \n",
    "    values = pd.Series(values)\n",
    "# рассчитаем среднюю выручку\n",
    "    mean = values.mean()\n",
    "#рассчитаем 95% доверительный интервал через квантили 0.025 (нижний) и 0.975 (верхний)\n",
    "    lower = round(values.quantile(q = 0.025),2)\n",
    "    higher = round(values.quantile(q = 0.975),2)\n",
    "#рассчитаем 95% доверительный интервал через interval\n",
    "    alpha = 1 - 0.05\n",
    "    confidence_interval = st.t.interval(alpha=alpha, df = len(values)-1, loc=values.mean(), scale=values.sem())    \n",
    "    \n",
    "    \n",
    "# рассчитаем риск убытков\n",
    "    risk = ((pd.Series(values)<0).mean())\n",
    "    print('Риск убытков = {:.2%} '.format(risk))\n",
    "\n",
    "#вывод результатов    \n",
    "    print(\"95%-ый доверительный интервал:\", [lower, higher])\n",
    "\n",
    "    print(\"Средняя выручка:\", round(mean,2))\n",
    "\n",
    "    return mean, risk\n"
   ]
  },
  {
   "cell_type": "code",
   "execution_count": 23,
   "metadata": {
    "scrolled": false
   },
   "outputs": [
    {
     "name": "stdout",
     "output_type": "stream",
     "text": [
      "данные о средней выручке для первого региона:\n",
      "Риск убытков = 6.00% \n",
      "95%-ый доверительный интервал: [-102090094.84, 947976353.36]\n",
      "Средняя выручка: 425938526.91\n"
     ]
    }
   ],
   "source": [
    "# расчет для первого региона df_0\n",
    "print (\"данные о средней выручке для первого региона:\")\n",
    "mean_0, risk_0 = revenue_full(predicted_valid_0, target_valid_0)"
   ]
  },
  {
   "cell_type": "code",
   "execution_count": 24,
   "metadata": {
    "scrolled": true
   },
   "outputs": [
    {
     "name": "stdout",
     "output_type": "stream",
     "text": [
      "данные о средней выручке для второго региона:\n",
      "Риск убытков = 1.00% \n",
      "95%-ый доверительный интервал: [68873225.37, 931547591.26]\n",
      "Средняя выручка: 515222773.44\n"
     ]
    }
   ],
   "source": [
    "# расчет для второго региона df_1\n",
    "print (\"данные о средней выручке для второго региона:\")\n",
    "mean_1, risk_1 = revenue_full(predicted_valid_1, target_valid_1)"
   ]
  },
  {
   "cell_type": "code",
   "execution_count": 25,
   "metadata": {
    "scrolled": true
   },
   "outputs": [
    {
     "name": "stdout",
     "output_type": "stream",
     "text": [
      "данные о средней выручке для третьего региона:\n",
      "Риск убытков = 6.40% \n",
      "95%-ый доверительный интервал: [-128880547.33, 969706954.18]\n",
      "Средняя выручка: 435008362.78\n"
     ]
    }
   ],
   "source": [
    "# расчет для третьего региона df_2\n",
    "print (\"данные о средней выручке для третьего региона:\")\n",
    "mean_2, risk_2 = revenue_full(predicted_valid_2, target_valid_2)"
   ]
  },
  {
   "cell_type": "code",
   "execution_count": 26,
   "metadata": {
    "scrolled": true
   },
   "outputs": [
    {
     "data": {
      "text/plain": [
       "20430    139.818970\n",
       "7777     139.773423\n",
       "8755     139.703330\n",
       "1178     139.560938\n",
       "4285     139.516754\n",
       "            ...    \n",
       "5085      -1.634717\n",
       "12426     -1.693844\n",
       "9852      -1.871442\n",
       "5617      -1.883737\n",
       "4975      -1.893774\n",
       "Length: 25000, dtype: float64"
      ]
     },
     "execution_count": 26,
     "metadata": {},
     "output_type": "execute_result"
    }
   ],
   "source": [
    "#выведем информацию о предсказанных данных для второго региона df_1\n",
    "# можно заметить, что модель предсказывает отрицательные значения\n",
    "predicted_valid_1.sort_values(ascending=False)"
   ]
  },
  {
   "cell_type": "code",
   "execution_count": 27,
   "metadata": {
    "scrolled": true
   },
   "outputs": [
    {
     "name": "stdout",
     "output_type": "stream",
     "text": [
      "Риск убытков = 1.70% \n",
      "95%-ый доверительный интервал: [49572617.14, 925019718.77]\n",
      "Средняя выручка: 495457656.86\n"
     ]
    }
   ],
   "source": [
    "# расчет для второго региона для второй версии модели, из которой исключили вспе фичи, кроме f2\n",
    "mean_1_v2, risk_1_v2 = revenue_full(predicted_valid_1_v2, target_valid_1_v2)"
   ]
  },
  {
   "cell_type": "code",
   "execution_count": 28,
   "metadata": {},
   "outputs": [],
   "source": [
    "# напишем функцию для расчета средней добычи\n",
    "def mean_predict_200 (data):\n",
    "\n",
    "    return data[:200].sort_values(ascending=False).mean()"
   ]
  },
  {
   "cell_type": "code",
   "execution_count": 29,
   "metadata": {},
   "outputs": [],
   "source": [
    "mean_predict_200_0 = mean_predict_200(predicted_valid_0)"
   ]
  },
  {
   "cell_type": "code",
   "execution_count": 30,
   "metadata": {},
   "outputs": [],
   "source": [
    "mean_predict_200_1 = mean_predict_200(predicted_valid_1)"
   ]
  },
  {
   "cell_type": "code",
   "execution_count": 31,
   "metadata": {},
   "outputs": [],
   "source": [
    "mean_predict_200_1_v2 = mean_predict_200(predicted_valid_1_v2)"
   ]
  },
  {
   "cell_type": "code",
   "execution_count": 32,
   "metadata": {},
   "outputs": [],
   "source": [
    "mean_predict_200_2 = mean_predict_200(predicted_valid_2)"
   ]
  },
  {
   "cell_type": "code",
   "execution_count": 33,
   "metadata": {},
   "outputs": [],
   "source": [
    "product_all_0 = round(target_valid_0.sum(),3)"
   ]
  },
  {
   "cell_type": "code",
   "execution_count": 34,
   "metadata": {},
   "outputs": [],
   "source": [
    "product_all_1 = round(target_valid_1.sum(),3)"
   ]
  },
  {
   "cell_type": "code",
   "execution_count": 35,
   "metadata": {},
   "outputs": [],
   "source": [
    "product_all_2 = round(target_valid_2.sum(),3)"
   ]
  },
  {
   "cell_type": "markdown",
   "metadata": {},
   "source": [
    "подготовим таблицы для выводов"
   ]
  },
  {
   "cell_type": "code",
   "execution_count": 36,
   "metadata": {
    "scrolled": true
   },
   "outputs": [],
   "source": [
    "summary_table = {'Регион':['первый регион df_0','второй регион df_1','третий регион df_2'],\n",
    "                'Средний запас предсказанного сырья, тыс. барр':[predicted_valid_0.mean(), predicted_valid_1.mean(), \n",
    "                                                     predicted_valid_2.mean()],\n",
    "                'Средний запас предсказанного сырья (top200), тыс. барр':[mean_predict_200_0, mean_predict_200_1, \n",
    "                                                     mean_predict_200_2],\n",
    "                'Средняя выручка, млрд руб.':[round(mean_0/1000000000,2), round(mean_1/1000000000,2), \n",
    "                                             round(mean_2/1000000000,2)],\n",
    "                'Риск убытка':[risk_0, risk_1, risk_2],\n",
    "                'дельта, %':[balance_0, balance_1, balance_2],\n",
    "                'запасы сырья, тыс.барр':[product_all_0, product_all_1, product_all_2],\n",
    "                'RMSE модели':[result_0, result_1, result_2]}"
   ]
  },
  {
   "cell_type": "code",
   "execution_count": 37,
   "metadata": {},
   "outputs": [],
   "source": [
    "summary_table_df_2 = {'Регион':['второй регион df_1','второй регион df_1_v2'],\n",
    "                'Средний запас предсказанного сырья, тыс. барр': [predicted_valid_1.mean(), \n",
    "                                                      predicted_valid_1_v2.mean()],\n",
    "                'Средний запас предсказанного сырья (top200), тыс. барр':[mean_predict_200_1, \n",
    "                                                      mean_predict_200_1_v2],\n",
    "                'Средняя выручка, млрд руб.':[round(mean_1/1000000000,2), \n",
    "                                              round(mean_1_v2/1000000000,2)],\n",
    "                'Риск убытка':[risk_1, risk_1_v2],\n",
    "                'дельта, %':[balance_1, balance_1_v2],\n",
    "                'RMSE модели':[result_1, result_1_v2]}"
   ]
  },
  {
   "cell_type": "code",
   "execution_count": 38,
   "metadata": {},
   "outputs": [],
   "source": [
    "terms = {'Термины и константы':['бюджет', 'количество регионов', 'Доход с каждой единицы продукта',\n",
    "                                'количество скважин для разведки', 'количество скважин для разработки (top200)',\n",
    "                               'достаточный объём сырья для безубыточной разработки новой скважины', 'табл.: дельта'],\n",
    "        'Значения': ['10 млрд руб', '3', '450 тыс. руб. с 1 тыс. барр продукта','500','200','111,11',\n",
    "                     'относительная разница между предсказанным средним объемом и минимальным безубыточным объемом сырья',]}"
   ]
  },
  {
   "cell_type": "code",
   "execution_count": 39,
   "metadata": {
    "scrolled": true
   },
   "outputs": [],
   "source": [
    "summary_table_df_2 = pd.DataFrame(summary_table_df_2)\n",
    "summary_table = pd.DataFrame(summary_table)\n",
    "terms = pd.DataFrame(terms)\n"
   ]
  },
  {
   "cell_type": "code",
   "execution_count": 40,
   "metadata": {},
   "outputs": [],
   "source": [
    "numeric_columns = ['Средний запас предсказанного сырья, тыс. барр', 'Средний запас предсказанного сырья (top200), тыс. барр',\n",
    "                   'Средняя выручка, млрд руб.', 'дельта, %', 'запасы сырья, тыс.барр']\n",
    "rmse_column = ['RMSE модели', 'Риск убытка']\n",
    "summary_table = (summary_table\n",
    "                 .style\n",
    "                 .highlight_max(color='yellowgreen', subset=numeric_columns)\n",
    "                 .highlight_min(color='coral', subset=numeric_columns)\n",
    "                 .highlight_max(color='coral', subset=rmse_column)\n",
    "                 .highlight_min(color='yellowgreen', subset=rmse_column)\n",
    ")"
   ]
  },
  {
   "cell_type": "markdown",
   "metadata": {},
   "source": [
    "### **выводы: предложения по региону для разработки скважин и обоснование выбора.**"
   ]
  },
  {
   "cell_type": "markdown",
   "metadata": {},
   "source": [
    "короткая таблица о терминах, константах и значениях"
   ]
  },
  {
   "cell_type": "code",
   "execution_count": 41,
   "metadata": {
    "scrolled": true
   },
   "outputs": [
    {
     "data": {
      "text/html": [
       "<div>\n",
       "<style scoped>\n",
       "    .dataframe tbody tr th:only-of-type {\n",
       "        vertical-align: middle;\n",
       "    }\n",
       "\n",
       "    .dataframe tbody tr th {\n",
       "        vertical-align: top;\n",
       "    }\n",
       "\n",
       "    .dataframe thead th {\n",
       "        text-align: right;\n",
       "    }\n",
       "</style>\n",
       "<table border=\"1\" class=\"dataframe\">\n",
       "  <thead>\n",
       "    <tr style=\"text-align: right;\">\n",
       "      <th></th>\n",
       "      <th>Термины и константы</th>\n",
       "      <th>Значения</th>\n",
       "    </tr>\n",
       "  </thead>\n",
       "  <tbody>\n",
       "    <tr>\n",
       "      <th>0</th>\n",
       "      <td>бюджет</td>\n",
       "      <td>10 млрд руб</td>\n",
       "    </tr>\n",
       "    <tr>\n",
       "      <th>1</th>\n",
       "      <td>количество регионов</td>\n",
       "      <td>3</td>\n",
       "    </tr>\n",
       "    <tr>\n",
       "      <th>2</th>\n",
       "      <td>Доход с каждой единицы продукта</td>\n",
       "      <td>450 тыс. руб. с 1 тыс. барр продукта</td>\n",
       "    </tr>\n",
       "    <tr>\n",
       "      <th>3</th>\n",
       "      <td>количество скважин для разведки</td>\n",
       "      <td>500</td>\n",
       "    </tr>\n",
       "    <tr>\n",
       "      <th>4</th>\n",
       "      <td>количество скважин для разработки (top200)</td>\n",
       "      <td>200</td>\n",
       "    </tr>\n",
       "    <tr>\n",
       "      <th>5</th>\n",
       "      <td>достаточный объём сырья для безубыточной разра...</td>\n",
       "      <td>111,11</td>\n",
       "    </tr>\n",
       "    <tr>\n",
       "      <th>6</th>\n",
       "      <td>табл.: дельта</td>\n",
       "      <td>относительная разница между предсказанным сред...</td>\n",
       "    </tr>\n",
       "  </tbody>\n",
       "</table>\n",
       "</div>"
      ],
      "text/plain": [
       "                                 Термины и константы  \\\n",
       "0                                             бюджет   \n",
       "1                                количество регионов   \n",
       "2                    Доход с каждой единицы продукта   \n",
       "3                    количество скважин для разведки   \n",
       "4         количество скважин для разработки (top200)   \n",
       "5  достаточный объём сырья для безубыточной разра...   \n",
       "6                                      табл.: дельта   \n",
       "\n",
       "                                            Значения  \n",
       "0                                        10 млрд руб  \n",
       "1                                                  3  \n",
       "2               450 тыс. руб. с 1 тыс. барр продукта  \n",
       "3                                                500  \n",
       "4                                                200  \n",
       "5                                             111,11  \n",
       "6  относительная разница между предсказанным сред...  "
      ]
     },
     "execution_count": 41,
     "metadata": {},
     "output_type": "execute_result"
    }
   ],
   "source": [
    "terms"
   ]
  },
  {
   "cell_type": "markdown",
   "metadata": {},
   "source": [
    "в рамках задачи было выдвинуто предположение: для модели по второму региону была замечана сильная корреляция цели и фичи f2. Предполагалось проверить, если оставить для данной модели для обучения только один параметр f2, то будет ли сильно влиять на показатели для бизнеса. Однако, анализ показал, что особых изменений не обнаружено, поэтому для дальнейшей таблицы используется данные из модели по второму региона, которая для обучения берет все фичи. Также, оставив только одну фичу во второй версии модели, мы ухудшили показатель RMS, а также увеличили риски убытка"
   ]
  },
  {
   "cell_type": "code",
   "execution_count": 42,
   "metadata": {},
   "outputs": [
    {
     "data": {
      "text/html": [
       "<div>\n",
       "<style scoped>\n",
       "    .dataframe tbody tr th:only-of-type {\n",
       "        vertical-align: middle;\n",
       "    }\n",
       "\n",
       "    .dataframe tbody tr th {\n",
       "        vertical-align: top;\n",
       "    }\n",
       "\n",
       "    .dataframe thead th {\n",
       "        text-align: right;\n",
       "    }\n",
       "</style>\n",
       "<table border=\"1\" class=\"dataframe\">\n",
       "  <thead>\n",
       "    <tr style=\"text-align: right;\">\n",
       "      <th></th>\n",
       "      <th>Регион</th>\n",
       "      <th>Средний запас предсказанного сырья, тыс. барр</th>\n",
       "      <th>Средний запас предсказанного сырья (top200), тыс. барр</th>\n",
       "      <th>Средняя выручка, млрд руб.</th>\n",
       "      <th>Риск убытка</th>\n",
       "      <th>дельта, %</th>\n",
       "      <th>RMSE модели</th>\n",
       "    </tr>\n",
       "  </thead>\n",
       "  <tbody>\n",
       "    <tr>\n",
       "      <th>0</th>\n",
       "      <td>второй регион df_1</td>\n",
       "      <td>68.728547</td>\n",
       "      <td>66.729502</td>\n",
       "      <td>0.52</td>\n",
       "      <td>0.010</td>\n",
       "      <td>-38.14</td>\n",
       "      <td>0.893099</td>\n",
       "    </tr>\n",
       "    <tr>\n",
       "      <th>1</th>\n",
       "      <td>второй регион df_1_v2</td>\n",
       "      <td>68.728943</td>\n",
       "      <td>66.688852</td>\n",
       "      <td>0.50</td>\n",
       "      <td>0.017</td>\n",
       "      <td>-38.14</td>\n",
       "      <td>1.594228</td>\n",
       "    </tr>\n",
       "  </tbody>\n",
       "</table>\n",
       "</div>"
      ],
      "text/plain": [
       "                  Регион  Средний запас предсказанного сырья, тыс. барр  \\\n",
       "0     второй регион df_1                                      68.728547   \n",
       "1  второй регион df_1_v2                                      68.728943   \n",
       "\n",
       "   Средний запас предсказанного сырья (top200), тыс. барр  \\\n",
       "0                                          66.729502        \n",
       "1                                          66.688852        \n",
       "\n",
       "   Средняя выручка, млрд руб.  Риск убытка  дельта, %  RMSE модели  \n",
       "0                        0.52        0.010     -38.14     0.893099  \n",
       "1                        0.50        0.017     -38.14     1.594228  "
      ]
     },
     "execution_count": 42,
     "metadata": {},
     "output_type": "execute_result"
    }
   ],
   "source": [
    "summary_table_df_2"
   ]
  },
  {
   "cell_type": "markdown",
   "metadata": {},
   "source": [
    "ниже представлена сравнительная таблица с показателями по трем регионам, зеленым выделены значения с лучшими показателями, желтым с худшими показателями"
   ]
  },
  {
   "cell_type": "code",
   "execution_count": 43,
   "metadata": {
    "scrolled": true
   },
   "outputs": [
    {
     "data": {
      "text/html": [
       "<style type=\"text/css\">\n",
       "#T_cde4c_row0_col3, #T_cde4c_row1_col1, #T_cde4c_row1_col2, #T_cde4c_row1_col5, #T_cde4c_row1_col6, #T_cde4c_row2_col4, #T_cde4c_row2_col7 {\n",
       "  background-color: coral;\n",
       "}\n",
       "#T_cde4c_row1_col3, #T_cde4c_row1_col4, #T_cde4c_row1_col7, #T_cde4c_row2_col1, #T_cde4c_row2_col2, #T_cde4c_row2_col5, #T_cde4c_row2_col6 {\n",
       "  background-color: yellowgreen;\n",
       "}\n",
       "</style>\n",
       "<table id=\"T_cde4c\">\n",
       "  <thead>\n",
       "    <tr>\n",
       "      <th class=\"blank level0\" >&nbsp;</th>\n",
       "      <th id=\"T_cde4c_level0_col0\" class=\"col_heading level0 col0\" >Регион</th>\n",
       "      <th id=\"T_cde4c_level0_col1\" class=\"col_heading level0 col1\" >Средний запас предсказанного сырья, тыс. барр</th>\n",
       "      <th id=\"T_cde4c_level0_col2\" class=\"col_heading level0 col2\" >Средний запас предсказанного сырья (top200), тыс. барр</th>\n",
       "      <th id=\"T_cde4c_level0_col3\" class=\"col_heading level0 col3\" >Средняя выручка, млрд руб.</th>\n",
       "      <th id=\"T_cde4c_level0_col4\" class=\"col_heading level0 col4\" >Риск убытка</th>\n",
       "      <th id=\"T_cde4c_level0_col5\" class=\"col_heading level0 col5\" >дельта, %</th>\n",
       "      <th id=\"T_cde4c_level0_col6\" class=\"col_heading level0 col6\" >запасы сырья, тыс.барр</th>\n",
       "      <th id=\"T_cde4c_level0_col7\" class=\"col_heading level0 col7\" >RMSE модели</th>\n",
       "    </tr>\n",
       "  </thead>\n",
       "  <tbody>\n",
       "    <tr>\n",
       "      <th id=\"T_cde4c_level0_row0\" class=\"row_heading level0 row0\" >0</th>\n",
       "      <td id=\"T_cde4c_row0_col0\" class=\"data row0 col0\" >первый регион df_0</td>\n",
       "      <td id=\"T_cde4c_row0_col1\" class=\"data row0 col1\" >92.592568</td>\n",
       "      <td id=\"T_cde4c_row0_col2\" class=\"data row0 col2\" >91.301957</td>\n",
       "      <td id=\"T_cde4c_row0_col3\" class=\"data row0 col3\" >0.430000</td>\n",
       "      <td id=\"T_cde4c_row0_col4\" class=\"data row0 col4\" >0.060000</td>\n",
       "      <td id=\"T_cde4c_row0_col5\" class=\"data row0 col5\" >-16.670000</td>\n",
       "      <td id=\"T_cde4c_row0_col6\" class=\"data row0 col6\" >2301964.919000</td>\n",
       "      <td id=\"T_cde4c_row0_col7\" class=\"data row0 col7\" >37.579422</td>\n",
       "    </tr>\n",
       "    <tr>\n",
       "      <th id=\"T_cde4c_level0_row1\" class=\"row_heading level0 row1\" >1</th>\n",
       "      <td id=\"T_cde4c_row1_col0\" class=\"data row1 col0\" >второй регион df_1</td>\n",
       "      <td id=\"T_cde4c_row1_col1\" class=\"data row1 col1\" >68.728547</td>\n",
       "      <td id=\"T_cde4c_row1_col2\" class=\"data row1 col2\" >66.729502</td>\n",
       "      <td id=\"T_cde4c_row1_col3\" class=\"data row1 col3\" >0.520000</td>\n",
       "      <td id=\"T_cde4c_row1_col4\" class=\"data row1 col4\" >0.010000</td>\n",
       "      <td id=\"T_cde4c_row1_col5\" class=\"data row1 col5\" >-38.140000</td>\n",
       "      <td id=\"T_cde4c_row1_col6\" class=\"data row1 col6\" >1718078.401000</td>\n",
       "      <td id=\"T_cde4c_row1_col7\" class=\"data row1 col7\" >0.893099</td>\n",
       "    </tr>\n",
       "    <tr>\n",
       "      <th id=\"T_cde4c_level0_row2\" class=\"row_heading level0 row2\" >2</th>\n",
       "      <td id=\"T_cde4c_row2_col0\" class=\"data row2 col0\" >третий регион df_2</td>\n",
       "      <td id=\"T_cde4c_row2_col1\" class=\"data row2 col1\" >94.965046</td>\n",
       "      <td id=\"T_cde4c_row2_col2\" class=\"data row2 col2\" >98.221002</td>\n",
       "      <td id=\"T_cde4c_row2_col3\" class=\"data row2 col3\" >0.440000</td>\n",
       "      <td id=\"T_cde4c_row2_col4\" class=\"data row2 col4\" >0.064000</td>\n",
       "      <td id=\"T_cde4c_row2_col5\" class=\"data row2 col5\" >-14.530000</td>\n",
       "      <td id=\"T_cde4c_row2_col6\" class=\"data row2 col6\" >2372105.820000</td>\n",
       "      <td id=\"T_cde4c_row2_col7\" class=\"data row2 col7\" >40.029709</td>\n",
       "    </tr>\n",
       "  </tbody>\n",
       "</table>\n"
      ],
      "text/plain": [
       "<pandas.io.formats.style.Styler at 0x7fbe45374280>"
      ]
     },
     "execution_count": 43,
     "metadata": {},
     "output_type": "execute_result"
    }
   ],
   "source": [
    "summary_table"
   ]
  },
  {
   "cell_type": "markdown",
   "metadata": {},
   "source": [
    "### **выводы: рекомендации по выбору региона для разработки:**\n",
    "\n",
    "Исходя из условий задачи, что выбирается регион с наилучшей средней выручкой - предлагается для разработки второй регион (средняя выручка 10,5 млрд рублей, оцениваемая прибыть 0,52 млрд рублей, средний запас предсказанного сырья в одной точке 68,7 тыс. бареллей, запасы сырья порядка 1 718 078 тыс. бареллей, RMSE модели 0,89). **Риск убытка составляет 1%**."
   ]
  }
 ],
 "metadata": {
  "ExecuteTimeLog": [
   {
    "duration": 478,
    "start_time": "2023-03-03T08:16:30.099Z"
   },
   {
    "duration": 102,
    "start_time": "2023-03-03T08:16:48.019Z"
   },
   {
    "duration": 483,
    "start_time": "2023-03-03T08:16:58.652Z"
   },
   {
    "duration": 9,
    "start_time": "2023-03-03T08:17:12.591Z"
   },
   {
    "duration": 2119,
    "start_time": "2023-03-03T08:18:01.019Z"
   },
   {
    "duration": 4,
    "start_time": "2023-03-03T08:20:39.379Z"
   },
   {
    "duration": 128,
    "start_time": "2023-03-03T08:21:01.300Z"
   },
   {
    "duration": 109,
    "start_time": "2023-03-03T08:21:31.836Z"
   },
   {
    "duration": 109,
    "start_time": "2023-03-03T08:21:35.919Z"
   },
   {
    "duration": 61,
    "start_time": "2023-03-03T08:22:28.971Z"
   },
   {
    "duration": 18895,
    "start_time": "2023-03-03T08:24:02.981Z"
   },
   {
    "duration": 8973,
    "start_time": "2023-03-03T08:24:29.014Z"
   },
   {
    "duration": 8039,
    "start_time": "2023-03-03T08:29:37.371Z"
   },
   {
    "duration": 8601,
    "start_time": "2023-03-03T08:32:17.721Z"
   },
   {
    "duration": 4239,
    "start_time": "2023-03-03T08:48:29.093Z"
   },
   {
    "duration": 4314,
    "start_time": "2023-03-03T08:49:00.220Z"
   },
   {
    "duration": 6579,
    "start_time": "2023-03-03T08:49:18.853Z"
   },
   {
    "duration": 38,
    "start_time": "2023-03-03T10:03:36.053Z"
   },
   {
    "duration": 6276,
    "start_time": "2023-03-03T10:03:51.266Z"
   },
   {
    "duration": 22,
    "start_time": "2023-03-03T10:04:00.034Z"
   },
   {
    "duration": 41,
    "start_time": "2023-03-03T10:04:19.506Z"
   },
   {
    "duration": 5,
    "start_time": "2023-03-03T10:04:48.358Z"
   },
   {
    "duration": 27,
    "start_time": "2023-03-03T10:04:53.187Z"
   },
   {
    "duration": 8,
    "start_time": "2023-03-03T10:05:02.106Z"
   },
   {
    "duration": 32,
    "start_time": "2023-03-03T10:05:03.706Z"
   },
   {
    "duration": 8,
    "start_time": "2023-03-03T10:05:39.786Z"
   },
   {
    "duration": 60,
    "start_time": "2023-03-03T10:05:40.388Z"
   },
   {
    "duration": 30167,
    "start_time": "2023-03-03T12:37:29.196Z"
   },
   {
    "duration": 1025,
    "start_time": "2023-03-03T12:37:59.365Z"
   },
   {
    "duration": 5,
    "start_time": "2023-03-03T12:38:00.392Z"
   },
   {
    "duration": 203,
    "start_time": "2023-03-03T12:38:00.399Z"
   },
   {
    "duration": 164,
    "start_time": "2023-03-03T12:38:00.605Z"
   },
   {
    "duration": 166,
    "start_time": "2023-03-03T12:38:00.771Z"
   },
   {
    "duration": 10792,
    "start_time": "2023-03-03T12:38:00.939Z"
   },
   {
    "duration": 9542,
    "start_time": "2023-03-03T12:38:11.743Z"
   },
   {
    "duration": 10072,
    "start_time": "2023-03-03T12:38:21.287Z"
   },
   {
    "duration": 6,
    "start_time": "2023-03-03T12:38:31.362Z"
   },
   {
    "duration": 267,
    "start_time": "2023-03-03T12:38:31.370Z"
   },
   {
    "duration": 29,
    "start_time": "2023-03-03T12:38:53.587Z"
   },
   {
    "duration": 5,
    "start_time": "2023-03-03T12:39:13.979Z"
   },
   {
    "duration": 18,
    "start_time": "2023-03-03T12:39:31.607Z"
   },
   {
    "duration": 28,
    "start_time": "2023-03-03T12:40:48.399Z"
   },
   {
    "duration": 25,
    "start_time": "2023-03-03T12:42:44.988Z"
   },
   {
    "duration": 16,
    "start_time": "2023-03-03T12:46:10.155Z"
   },
   {
    "duration": 52,
    "start_time": "2023-03-03T12:47:13.953Z"
   },
   {
    "duration": 75,
    "start_time": "2023-03-03T12:48:00.587Z"
   },
   {
    "duration": 84,
    "start_time": "2023-03-03T12:48:11.387Z"
   },
   {
    "duration": 25,
    "start_time": "2023-03-03T12:48:19.641Z"
   },
   {
    "duration": 14,
    "start_time": "2023-03-03T12:50:33.397Z"
   },
   {
    "duration": 16,
    "start_time": "2023-03-03T12:50:37.789Z"
   },
   {
    "duration": 41,
    "start_time": "2023-03-03T12:50:51.007Z"
   },
   {
    "duration": 13,
    "start_time": "2023-03-03T12:51:04.392Z"
   },
   {
    "duration": 13,
    "start_time": "2023-03-03T12:51:07.587Z"
   },
   {
    "duration": 8,
    "start_time": "2023-03-03T12:51:19.050Z"
   },
   {
    "duration": 7,
    "start_time": "2023-03-03T13:00:51.033Z"
   },
   {
    "duration": 13,
    "start_time": "2023-03-03T13:10:34.109Z"
   },
   {
    "duration": 19,
    "start_time": "2023-03-03T13:10:47.771Z"
   },
   {
    "duration": 7689,
    "start_time": "2023-03-03T13:13:14.665Z"
   },
   {
    "duration": 23,
    "start_time": "2023-03-03T13:13:36.870Z"
   },
   {
    "duration": 110,
    "start_time": "2023-03-03T13:14:24.511Z"
   },
   {
    "duration": 7335,
    "start_time": "2023-03-03T13:15:42.265Z"
   },
   {
    "duration": 22,
    "start_time": "2023-03-03T13:16:16.653Z"
   },
   {
    "duration": 14,
    "start_time": "2023-03-03T13:16:27.601Z"
   },
   {
    "duration": 54,
    "start_time": "2023-03-03T13:16:35.988Z"
   },
   {
    "duration": 7,
    "start_time": "2023-03-03T13:16:43.545Z"
   },
   {
    "duration": 4,
    "start_time": "2023-03-03T13:16:57.262Z"
   },
   {
    "duration": 4,
    "start_time": "2023-03-03T13:17:08.601Z"
   },
   {
    "duration": 6,
    "start_time": "2023-03-03T13:17:44.364Z"
   },
   {
    "duration": 11,
    "start_time": "2023-03-03T13:17:51.921Z"
   },
   {
    "duration": 6,
    "start_time": "2023-03-03T13:18:14.942Z"
   },
   {
    "duration": 29607,
    "start_time": "2023-03-04T18:10:26.336Z"
   },
   {
    "duration": 1273,
    "start_time": "2023-03-04T18:10:55.946Z"
   },
   {
    "duration": 3,
    "start_time": "2023-03-04T18:10:57.221Z"
   },
   {
    "duration": 145,
    "start_time": "2023-03-04T18:10:57.226Z"
   },
   {
    "duration": 175,
    "start_time": "2023-03-04T18:10:57.373Z"
   },
   {
    "duration": 157,
    "start_time": "2023-03-04T18:10:57.570Z"
   },
   {
    "duration": 10917,
    "start_time": "2023-03-04T18:10:57.729Z"
   },
   {
    "duration": 9453,
    "start_time": "2023-03-04T18:11:08.648Z"
   },
   {
    "duration": 10237,
    "start_time": "2023-03-04T18:11:18.103Z"
   },
   {
    "duration": 11,
    "start_time": "2023-03-04T18:11:28.353Z"
   },
   {
    "duration": 32,
    "start_time": "2023-03-04T18:11:28.367Z"
   },
   {
    "duration": 12,
    "start_time": "2023-03-04T18:11:28.407Z"
   },
   {
    "duration": 41,
    "start_time": "2023-03-04T18:11:28.421Z"
   },
   {
    "duration": 36,
    "start_time": "2023-03-04T18:11:28.464Z"
   },
   {
    "duration": 74,
    "start_time": "2023-03-04T18:11:28.501Z"
   },
   {
    "duration": 23,
    "start_time": "2023-03-04T18:11:28.577Z"
   },
   {
    "duration": 11,
    "start_time": "2023-03-04T18:11:28.601Z"
   },
   {
    "duration": 13,
    "start_time": "2023-03-04T18:11:28.614Z"
   },
   {
    "duration": 7,
    "start_time": "2023-03-04T18:11:28.628Z"
   },
   {
    "duration": 8,
    "start_time": "2023-03-04T18:11:28.637Z"
   },
   {
    "duration": 115,
    "start_time": "2023-03-04T18:11:28.646Z"
   },
   {
    "duration": 128,
    "start_time": "2023-03-04T18:11:28.772Z"
   },
   {
    "duration": 8,
    "start_time": "2023-03-04T18:11:28.901Z"
   },
   {
    "duration": 11,
    "start_time": "2023-03-04T18:11:28.910Z"
   },
   {
    "duration": 33,
    "start_time": "2023-03-04T18:11:28.922Z"
   },
   {
    "duration": 8,
    "start_time": "2023-03-04T18:26:13.772Z"
   },
   {
    "duration": 211,
    "start_time": "2023-03-04T18:26:30.580Z"
   },
   {
    "duration": 78,
    "start_time": "2023-03-04T18:26:53.018Z"
   },
   {
    "duration": 10,
    "start_time": "2023-03-04T19:32:47.422Z"
   },
   {
    "duration": 230,
    "start_time": "2023-03-04T19:33:02.823Z"
   },
   {
    "duration": 9,
    "start_time": "2023-03-04T19:33:43.626Z"
   },
   {
    "duration": 10,
    "start_time": "2023-03-04T19:33:48.007Z"
   },
   {
    "duration": 154,
    "start_time": "2023-03-04T19:33:48.710Z"
   },
   {
    "duration": 9,
    "start_time": "2023-03-04T19:34:41.222Z"
   },
   {
    "duration": 164,
    "start_time": "2023-03-04T19:34:41.903Z"
   },
   {
    "duration": 167,
    "start_time": "2023-03-04T19:35:33.831Z"
   },
   {
    "duration": 265,
    "start_time": "2023-03-04T19:35:36.482Z"
   },
   {
    "duration": 9,
    "start_time": "2023-03-04T19:37:30.534Z"
   },
   {
    "duration": 157,
    "start_time": "2023-03-04T19:37:32.107Z"
   },
   {
    "duration": 188,
    "start_time": "2023-03-04T19:38:53.379Z"
   },
   {
    "duration": 6,
    "start_time": "2023-03-04T19:39:04.871Z"
   },
   {
    "duration": 141,
    "start_time": "2023-03-04T19:39:35.872Z"
   },
   {
    "duration": 170,
    "start_time": "2023-03-04T19:39:38.270Z"
   },
   {
    "duration": 19,
    "start_time": "2023-03-04T19:39:49.995Z"
   },
   {
    "duration": 10,
    "start_time": "2023-03-04T19:40:00.044Z"
   },
   {
    "duration": 9446,
    "start_time": "2023-03-04T19:57:24.217Z"
   },
   {
    "duration": 10,
    "start_time": "2023-03-04T19:58:37.312Z"
   },
   {
    "duration": 248,
    "start_time": "2023-03-04T19:58:38.949Z"
   },
   {
    "duration": 249,
    "start_time": "2023-03-04T19:58:42.405Z"
   },
   {
    "duration": 160,
    "start_time": "2023-03-04T19:58:45.222Z"
   },
   {
    "duration": 8447,
    "start_time": "2023-03-04T20:00:44.723Z"
   },
   {
    "duration": 11,
    "start_time": "2023-03-04T20:01:30.323Z"
   },
   {
    "duration": 154,
    "start_time": "2023-03-04T20:01:31.624Z"
   },
   {
    "duration": 176,
    "start_time": "2023-03-04T20:01:34.477Z"
   },
   {
    "duration": 178,
    "start_time": "2023-03-04T20:01:40.307Z"
   },
   {
    "duration": 7,
    "start_time": "2023-03-04T20:05:59.740Z"
   },
   {
    "duration": 191,
    "start_time": "2023-03-04T20:06:00.273Z"
   },
   {
    "duration": 5,
    "start_time": "2023-03-04T20:25:17.238Z"
   },
   {
    "duration": 5,
    "start_time": "2023-03-04T20:29:04.480Z"
   },
   {
    "duration": 4,
    "start_time": "2023-03-04T20:29:09.116Z"
   },
   {
    "duration": 3,
    "start_time": "2023-03-04T20:38:11.272Z"
   },
   {
    "duration": 2,
    "start_time": "2023-03-04T20:41:32.733Z"
   },
   {
    "duration": 3,
    "start_time": "2023-03-04T20:41:50.339Z"
   },
   {
    "duration": 4,
    "start_time": "2023-03-04T20:43:18.841Z"
   },
   {
    "duration": 58,
    "start_time": "2023-03-04T20:45:54.705Z"
   },
   {
    "duration": 5,
    "start_time": "2023-03-04T20:46:01.736Z"
   },
   {
    "duration": 3,
    "start_time": "2023-03-04T20:50:02.706Z"
   },
   {
    "duration": 25,
    "start_time": "2023-03-04T20:50:32.518Z"
   },
   {
    "duration": 5,
    "start_time": "2023-03-04T20:50:40.822Z"
   },
   {
    "duration": 6,
    "start_time": "2023-03-04T20:50:42.365Z"
   },
   {
    "duration": 5,
    "start_time": "2023-03-04T20:52:24.135Z"
   },
   {
    "duration": 4,
    "start_time": "2023-03-04T20:52:25.086Z"
   },
   {
    "duration": 4,
    "start_time": "2023-03-04T20:54:16.140Z"
   },
   {
    "duration": 4,
    "start_time": "2023-03-04T20:54:18.785Z"
   },
   {
    "duration": 16,
    "start_time": "2023-03-04T20:54:19.302Z"
   },
   {
    "duration": 5,
    "start_time": "2023-03-04T20:54:26.278Z"
   },
   {
    "duration": 4,
    "start_time": "2023-03-04T20:54:26.907Z"
   },
   {
    "duration": 4,
    "start_time": "2023-03-04T20:55:51.465Z"
   },
   {
    "duration": 3,
    "start_time": "2023-03-04T20:57:37.119Z"
   },
   {
    "duration": 4,
    "start_time": "2023-03-04T20:57:38.005Z"
   },
   {
    "duration": 4,
    "start_time": "2023-03-04T20:57:57.063Z"
   },
   {
    "duration": 4,
    "start_time": "2023-03-04T20:57:57.477Z"
   },
   {
    "duration": 15,
    "start_time": "2023-03-04T20:58:45.525Z"
   },
   {
    "duration": 8,
    "start_time": "2023-03-04T20:58:49.747Z"
   },
   {
    "duration": 23,
    "start_time": "2023-03-04T20:58:49.764Z"
   },
   {
    "duration": 3,
    "start_time": "2023-03-04T20:59:05.769Z"
   },
   {
    "duration": 20,
    "start_time": "2023-03-04T20:59:05.774Z"
   },
   {
    "duration": 12,
    "start_time": "2023-03-04T20:59:30.662Z"
   },
   {
    "duration": 4,
    "start_time": "2023-03-04T21:00:06.484Z"
   },
   {
    "duration": 18,
    "start_time": "2023-03-04T21:00:08.438Z"
   },
   {
    "duration": 3,
    "start_time": "2023-03-04T21:00:09.631Z"
   },
   {
    "duration": 3,
    "start_time": "2023-03-04T21:00:11.142Z"
   },
   {
    "duration": 3,
    "start_time": "2023-03-04T21:00:39.773Z"
   },
   {
    "duration": 3,
    "start_time": "2023-03-04T21:00:40.389Z"
   },
   {
    "duration": 4,
    "start_time": "2023-03-04T21:00:56.889Z"
   },
   {
    "duration": 4,
    "start_time": "2023-03-04T21:00:57.405Z"
   },
   {
    "duration": 4,
    "start_time": "2023-03-04T21:01:04.703Z"
   },
   {
    "duration": 4,
    "start_time": "2023-03-04T21:01:11.794Z"
   },
   {
    "duration": 7,
    "start_time": "2023-03-04T21:10:54.964Z"
   },
   {
    "duration": 5,
    "start_time": "2023-03-04T21:11:20.307Z"
   },
   {
    "duration": 25534,
    "start_time": "2023-03-05T05:18:47.012Z"
   },
   {
    "duration": 1553,
    "start_time": "2023-03-05T05:19:12.548Z"
   },
   {
    "duration": 3,
    "start_time": "2023-03-05T05:19:14.103Z"
   },
   {
    "duration": 140,
    "start_time": "2023-03-05T05:19:14.107Z"
   },
   {
    "duration": 145,
    "start_time": "2023-03-05T05:19:14.250Z"
   },
   {
    "duration": 133,
    "start_time": "2023-03-05T05:19:14.396Z"
   },
   {
    "duration": 10236,
    "start_time": "2023-03-05T05:19:14.531Z"
   },
   {
    "duration": 8079,
    "start_time": "2023-03-05T05:19:24.769Z"
   },
   {
    "duration": 8629,
    "start_time": "2023-03-05T05:19:32.850Z"
   },
   {
    "duration": 6,
    "start_time": "2023-03-05T05:19:41.481Z"
   },
   {
    "duration": 157,
    "start_time": "2023-03-05T05:19:41.489Z"
   },
   {
    "duration": 195,
    "start_time": "2023-03-05T05:19:41.648Z"
   },
   {
    "duration": 295,
    "start_time": "2023-03-05T05:19:41.847Z"
   },
   {
    "duration": 95,
    "start_time": "2023-03-05T05:19:42.146Z"
   },
   {
    "duration": 5,
    "start_time": "2023-03-05T05:19:42.243Z"
   },
   {
    "duration": 4,
    "start_time": "2023-03-05T05:19:42.249Z"
   },
   {
    "duration": 4,
    "start_time": "2023-03-05T05:19:42.254Z"
   },
   {
    "duration": 4,
    "start_time": "2023-03-05T05:19:42.259Z"
   },
   {
    "duration": 204,
    "start_time": "2023-03-05T05:37:49.130Z"
   },
   {
    "duration": 860,
    "start_time": "2023-03-05T05:45:28.641Z"
   },
   {
    "duration": 13,
    "start_time": "2023-03-05T05:54:59.972Z"
   },
   {
    "duration": 17,
    "start_time": "2023-03-05T05:55:08.060Z"
   },
   {
    "duration": 12,
    "start_time": "2023-03-05T05:55:21.421Z"
   },
   {
    "duration": 13,
    "start_time": "2023-03-05T05:55:30.498Z"
   },
   {
    "duration": 7,
    "start_time": "2023-03-05T05:55:38.135Z"
   },
   {
    "duration": 4,
    "start_time": "2023-03-05T05:55:50.726Z"
   },
   {
    "duration": 4,
    "start_time": "2023-03-05T05:56:02.882Z"
   },
   {
    "duration": 3,
    "start_time": "2023-03-05T05:56:12.878Z"
   },
   {
    "duration": 22391,
    "start_time": "2023-03-06T06:49:51.087Z"
   },
   {
    "duration": 1703,
    "start_time": "2023-03-06T06:50:13.480Z"
   },
   {
    "duration": 3,
    "start_time": "2023-03-06T06:50:15.185Z"
   },
   {
    "duration": 150,
    "start_time": "2023-03-06T06:50:15.190Z"
   },
   {
    "duration": 130,
    "start_time": "2023-03-06T06:50:15.342Z"
   },
   {
    "duration": 114,
    "start_time": "2023-03-06T06:50:15.473Z"
   },
   {
    "duration": 9064,
    "start_time": "2023-03-06T06:50:15.588Z"
   },
   {
    "duration": 8743,
    "start_time": "2023-03-06T06:50:24.654Z"
   },
   {
    "duration": 8667,
    "start_time": "2023-03-06T06:50:33.398Z"
   },
   {
    "duration": 6,
    "start_time": "2023-03-06T06:50:42.067Z"
   },
   {
    "duration": 167,
    "start_time": "2023-03-06T06:50:42.074Z"
   },
   {
    "duration": 307,
    "start_time": "2023-03-06T06:50:42.244Z"
   },
   {
    "duration": 212,
    "start_time": "2023-03-06T06:50:42.554Z"
   },
   {
    "duration": 8,
    "start_time": "2023-03-06T06:50:42.839Z"
   },
   {
    "duration": 103,
    "start_time": "2023-03-06T06:50:42.850Z"
   },
   {
    "duration": 18,
    "start_time": "2023-03-06T06:50:42.955Z"
   },
   {
    "duration": 13,
    "start_time": "2023-03-06T06:50:42.974Z"
   },
   {
    "duration": 7,
    "start_time": "2023-03-06T06:50:42.989Z"
   },
   {
    "duration": 1162,
    "start_time": "2023-03-06T06:50:42.997Z"
   },
   {
    "duration": 12,
    "start_time": "2023-03-06T07:07:09.238Z"
   },
   {
    "duration": 239,
    "start_time": "2023-03-06T07:07:15.503Z"
   },
   {
    "duration": 9,
    "start_time": "2023-03-06T07:10:20.979Z"
   },
   {
    "duration": 266,
    "start_time": "2023-03-06T07:10:21.783Z"
   },
   {
    "duration": 12,
    "start_time": "2023-03-06T07:10:32.522Z"
   },
   {
    "duration": 260,
    "start_time": "2023-03-06T07:10:34.382Z"
   },
   {
    "duration": 13,
    "start_time": "2023-03-06T07:12:18.599Z"
   },
   {
    "duration": 52,
    "start_time": "2023-03-06T07:12:21.042Z"
   },
   {
    "duration": 10,
    "start_time": "2023-03-06T07:12:56.313Z"
   },
   {
    "duration": 42,
    "start_time": "2023-03-06T07:12:57.502Z"
   },
   {
    "duration": 5898,
    "start_time": "2023-03-06T07:17:04.570Z"
   },
   {
    "duration": 10,
    "start_time": "2023-03-06T07:17:30.678Z"
   },
   {
    "duration": 28459,
    "start_time": "2023-03-06T07:17:34.582Z"
   },
   {
    "duration": 10,
    "start_time": "2023-03-06T07:21:33.571Z"
   },
   {
    "duration": 17401,
    "start_time": "2023-03-06T07:21:52.681Z"
   },
   {
    "duration": 29504,
    "start_time": "2023-03-06T07:22:49.041Z"
   },
   {
    "duration": 24,
    "start_time": "2023-03-06T07:30:59.017Z"
   },
   {
    "duration": 9,
    "start_time": "2023-03-06T07:31:32.690Z"
   },
   {
    "duration": 11,
    "start_time": "2023-03-06T07:35:54.336Z"
   },
   {
    "duration": 27661,
    "start_time": "2023-03-06T07:36:00.281Z"
   },
   {
    "duration": 10,
    "start_time": "2023-03-06T07:37:14.066Z"
   },
   {
    "duration": 28143,
    "start_time": "2023-03-06T07:37:21.500Z"
   },
   {
    "duration": 17700,
    "start_time": "2023-03-06T07:37:55.540Z"
   },
   {
    "duration": 11,
    "start_time": "2023-03-06T07:38:30.256Z"
   },
   {
    "duration": 27463,
    "start_time": "2023-03-06T07:38:54.300Z"
   },
   {
    "duration": 10,
    "start_time": "2023-03-06T07:40:22.632Z"
   },
   {
    "duration": 27802,
    "start_time": "2023-03-06T07:40:25.445Z"
   },
   {
    "duration": 19562,
    "start_time": "2023-03-06T07:41:58.892Z"
   },
   {
    "duration": 12,
    "start_time": "2023-03-06T07:45:36.416Z"
   },
   {
    "duration": 27881,
    "start_time": "2023-03-06T07:45:44.268Z"
   },
   {
    "duration": 4,
    "start_time": "2023-03-06T07:59:22.024Z"
   },
   {
    "duration": 10,
    "start_time": "2023-03-06T08:00:17.437Z"
   },
   {
    "duration": 29339,
    "start_time": "2023-03-06T08:00:19.307Z"
   },
   {
    "duration": 4,
    "start_time": "2023-03-06T08:16:45.426Z"
   },
   {
    "duration": 18,
    "start_time": "2023-03-06T08:19:06.825Z"
   },
   {
    "duration": 3,
    "start_time": "2023-03-06T08:21:00.646Z"
   },
   {
    "duration": 25,
    "start_time": "2023-03-06T08:21:01.368Z"
   },
   {
    "duration": 5,
    "start_time": "2023-03-06T08:21:25.045Z"
   },
   {
    "duration": 3,
    "start_time": "2023-03-06T08:21:55.385Z"
   },
   {
    "duration": 5,
    "start_time": "2023-03-06T08:22:03.087Z"
   },
   {
    "duration": 6,
    "start_time": "2023-03-06T08:22:14.518Z"
   },
   {
    "duration": 2,
    "start_time": "2023-03-06T08:24:09.145Z"
   },
   {
    "duration": 6,
    "start_time": "2023-03-06T08:24:14.771Z"
   },
   {
    "duration": 9,
    "start_time": "2023-03-06T08:24:40.681Z"
   },
   {
    "duration": 28227,
    "start_time": "2023-03-06T08:24:46.213Z"
   },
   {
    "duration": 6,
    "start_time": "2023-03-06T08:28:14.147Z"
   },
   {
    "duration": 26,
    "start_time": "2023-03-06T08:28:39.938Z"
   },
   {
    "duration": 9,
    "start_time": "2023-03-06T08:46:32.818Z"
   },
   {
    "duration": 5,
    "start_time": "2023-03-06T08:46:58.029Z"
   },
   {
    "duration": 5,
    "start_time": "2023-03-06T08:47:15.530Z"
   },
   {
    "duration": 1230,
    "start_time": "2023-03-06T08:47:31.917Z"
   },
   {
    "duration": 12,
    "start_time": "2023-03-06T08:47:45.157Z"
   },
   {
    "duration": 9,
    "start_time": "2023-03-06T08:47:51.737Z"
   },
   {
    "duration": 4,
    "start_time": "2023-03-06T08:48:16.738Z"
   },
   {
    "duration": 5,
    "start_time": "2023-03-06T08:48:26.138Z"
   },
   {
    "duration": 14,
    "start_time": "2023-03-06T08:50:12.517Z"
   },
   {
    "duration": 11,
    "start_time": "2023-03-06T08:50:21.629Z"
   },
   {
    "duration": 6,
    "start_time": "2023-03-06T08:51:14.877Z"
   },
   {
    "duration": 10,
    "start_time": "2023-03-06T08:51:23.810Z"
   },
   {
    "duration": 4,
    "start_time": "2023-03-06T08:51:59.857Z"
   },
   {
    "duration": 10,
    "start_time": "2023-03-06T08:52:07.689Z"
   },
   {
    "duration": 36,
    "start_time": "2023-03-06T08:52:14.897Z"
   },
   {
    "duration": 6,
    "start_time": "2023-03-06T08:52:48.389Z"
   },
   {
    "duration": 6,
    "start_time": "2023-03-06T08:53:24.648Z"
   },
   {
    "duration": 22,
    "start_time": "2023-03-06T08:53:25.410Z"
   },
   {
    "duration": 14,
    "start_time": "2023-03-06T08:55:16.097Z"
   },
   {
    "duration": 13,
    "start_time": "2023-03-06T08:55:36.009Z"
   },
   {
    "duration": 8,
    "start_time": "2023-03-06T08:57:06.617Z"
   },
   {
    "duration": 27823,
    "start_time": "2023-03-06T08:57:53.717Z"
   },
   {
    "duration": 6,
    "start_time": "2023-03-06T08:59:26.296Z"
   },
   {
    "duration": 5,
    "start_time": "2023-03-06T08:59:36.129Z"
   },
   {
    "duration": 3,
    "start_time": "2023-03-06T09:04:25.273Z"
   },
   {
    "duration": 2,
    "start_time": "2023-03-06T09:04:37.689Z"
   },
   {
    "duration": 5,
    "start_time": "2023-03-06T09:06:20.517Z"
   },
   {
    "duration": 6,
    "start_time": "2023-03-06T09:06:44.710Z"
   },
   {
    "duration": 3,
    "start_time": "2023-03-06T09:07:44.160Z"
   },
   {
    "duration": 9,
    "start_time": "2023-03-06T09:07:44.890Z"
   },
   {
    "duration": 18545,
    "start_time": "2023-03-06T09:16:19.997Z"
   },
   {
    "duration": 30252,
    "start_time": "2023-03-06T09:17:45.798Z"
   },
   {
    "duration": 12,
    "start_time": "2023-03-06T09:18:56.337Z"
   },
   {
    "duration": 9,
    "start_time": "2023-03-06T09:19:05.237Z"
   },
   {
    "duration": 12,
    "start_time": "2023-03-06T09:28:12.229Z"
   },
   {
    "duration": 13,
    "start_time": "2023-03-06T09:29:56.757Z"
   },
   {
    "duration": 19,
    "start_time": "2023-03-06T09:30:03.417Z"
   },
   {
    "duration": 5,
    "start_time": "2023-03-06T09:46:09.137Z"
   },
   {
    "duration": 4,
    "start_time": "2023-03-06T09:46:38.219Z"
   },
   {
    "duration": 28,
    "start_time": "2023-03-06T09:46:54.657Z"
   },
   {
    "duration": 4,
    "start_time": "2023-03-06T09:47:32.937Z"
   },
   {
    "duration": 28,
    "start_time": "2023-03-06T09:47:33.549Z"
   },
   {
    "duration": 5,
    "start_time": "2023-03-06T09:48:02.792Z"
   },
   {
    "duration": 5,
    "start_time": "2023-03-06T09:49:55.922Z"
   },
   {
    "duration": 5,
    "start_time": "2023-03-06T09:49:56.620Z"
   },
   {
    "duration": 1334,
    "start_time": "2023-03-06T09:49:59.902Z"
   },
   {
    "duration": 1291,
    "start_time": "2023-03-06T09:51:16.124Z"
   },
   {
    "duration": 5,
    "start_time": "2023-03-06T09:52:37.937Z"
   },
   {
    "duration": 1458,
    "start_time": "2023-03-06T09:52:38.459Z"
   },
   {
    "duration": 5871,
    "start_time": "2023-03-06T09:57:48.113Z"
   },
   {
    "duration": 6,
    "start_time": "2023-03-06T09:59:16.431Z"
   },
   {
    "duration": 1309,
    "start_time": "2023-03-06T09:59:17.438Z"
   },
   {
    "duration": 7,
    "start_time": "2023-03-06T09:59:53.328Z"
   },
   {
    "duration": 1278,
    "start_time": "2023-03-06T09:59:53.831Z"
   },
   {
    "duration": 6,
    "start_time": "2023-03-06T10:01:29.205Z"
   },
   {
    "duration": 1336,
    "start_time": "2023-03-06T10:01:29.699Z"
   },
   {
    "duration": 6,
    "start_time": "2023-03-06T10:06:06.911Z"
   },
   {
    "duration": 1327,
    "start_time": "2023-03-06T10:06:06.919Z"
   },
   {
    "duration": 7,
    "start_time": "2023-03-06T10:06:22.721Z"
   },
   {
    "duration": 1279,
    "start_time": "2023-03-06T10:06:23.932Z"
   },
   {
    "duration": 1282,
    "start_time": "2023-03-06T10:07:57.224Z"
   },
   {
    "duration": 1269,
    "start_time": "2023-03-06T10:08:07.134Z"
   },
   {
    "duration": 1270,
    "start_time": "2023-03-06T10:13:07.457Z"
   },
   {
    "duration": 1310,
    "start_time": "2023-03-06T10:13:33.408Z"
   },
   {
    "duration": 1248,
    "start_time": "2023-03-06T10:13:34.857Z"
   },
   {
    "duration": 8,
    "start_time": "2023-03-06T10:22:38.157Z"
   },
   {
    "duration": 9,
    "start_time": "2023-03-06T10:22:48.256Z"
   },
   {
    "duration": 8,
    "start_time": "2023-03-06T10:23:19.849Z"
   },
   {
    "duration": 11,
    "start_time": "2023-03-06T10:23:28.357Z"
   },
   {
    "duration": 8,
    "start_time": "2023-03-06T10:25:02.304Z"
   },
   {
    "duration": 7,
    "start_time": "2023-03-06T10:26:11.903Z"
   },
   {
    "duration": 21483,
    "start_time": "2023-03-06T10:28:32.199Z"
   },
   {
    "duration": 16,
    "start_time": "2023-03-06T10:29:20.009Z"
   },
   {
    "duration": 9,
    "start_time": "2023-03-06T10:29:26.150Z"
   },
   {
    "duration": 19,
    "start_time": "2023-03-06T10:30:36.536Z"
   },
   {
    "duration": 9,
    "start_time": "2023-03-06T10:30:45.329Z"
   },
   {
    "duration": 8,
    "start_time": "2023-03-06T10:35:07.117Z"
   },
   {
    "duration": 21,
    "start_time": "2023-03-06T10:35:19.520Z"
   },
   {
    "duration": 1380,
    "start_time": "2023-03-06T10:35:52.057Z"
   },
   {
    "duration": 5,
    "start_time": "2023-03-06T10:36:41.012Z"
   },
   {
    "duration": 1239,
    "start_time": "2023-03-06T10:36:50.504Z"
   },
   {
    "duration": 1320,
    "start_time": "2023-03-06T10:37:05.917Z"
   },
   {
    "duration": 1235,
    "start_time": "2023-03-06T10:37:26.620Z"
   },
   {
    "duration": 1266,
    "start_time": "2023-03-06T10:38:10.503Z"
   },
   {
    "duration": 5,
    "start_time": "2023-03-06T10:41:04.520Z"
   },
   {
    "duration": 1291,
    "start_time": "2023-03-06T10:41:05.724Z"
   },
   {
    "duration": 7,
    "start_time": "2023-03-06T10:41:43.604Z"
   },
   {
    "duration": 1293,
    "start_time": "2023-03-06T10:41:44.244Z"
   },
   {
    "duration": 5,
    "start_time": "2023-03-06T10:42:08.051Z"
   },
   {
    "duration": 1225,
    "start_time": "2023-03-06T10:42:08.596Z"
   },
   {
    "duration": 1232,
    "start_time": "2023-03-06T10:42:13.430Z"
   },
   {
    "duration": 1257,
    "start_time": "2023-03-06T10:42:17.357Z"
   },
   {
    "duration": 1205,
    "start_time": "2023-03-06T10:42:23.949Z"
   },
   {
    "duration": 5838,
    "start_time": "2023-03-06T11:31:37.303Z"
   },
   {
    "duration": 357,
    "start_time": "2023-03-06T11:31:43.143Z"
   },
   {
    "duration": 3,
    "start_time": "2023-03-06T11:31:43.502Z"
   },
   {
    "duration": 140,
    "start_time": "2023-03-06T11:31:43.506Z"
   },
   {
    "duration": 112,
    "start_time": "2023-03-06T11:31:43.648Z"
   },
   {
    "duration": 114,
    "start_time": "2023-03-06T11:31:43.761Z"
   },
   {
    "duration": 8595,
    "start_time": "2023-03-06T11:31:43.877Z"
   },
   {
    "duration": 7487,
    "start_time": "2023-03-06T11:31:52.474Z"
   },
   {
    "duration": 8209,
    "start_time": "2023-03-06T11:31:59.963Z"
   },
   {
    "duration": 15,
    "start_time": "2023-03-06T11:32:08.174Z"
   },
   {
    "duration": 28760,
    "start_time": "2023-03-06T11:32:08.191Z"
   },
   {
    "duration": 18590,
    "start_time": "2023-03-06T11:32:36.953Z"
   },
   {
    "duration": 30599,
    "start_time": "2023-03-06T11:32:55.546Z"
   },
   {
    "duration": 20013,
    "start_time": "2023-03-06T11:33:26.148Z"
   },
   {
    "duration": 4,
    "start_time": "2023-03-06T11:33:46.163Z"
   },
   {
    "duration": 8,
    "start_time": "2023-03-06T11:33:46.168Z"
   },
   {
    "duration": 5,
    "start_time": "2023-03-06T11:33:46.178Z"
   },
   {
    "duration": 4,
    "start_time": "2023-03-06T11:33:46.185Z"
   },
   {
    "duration": 5,
    "start_time": "2023-03-06T11:33:46.190Z"
   },
   {
    "duration": 6,
    "start_time": "2023-03-06T11:33:46.196Z"
   },
   {
    "duration": 1474,
    "start_time": "2023-03-06T11:33:46.203Z"
   },
   {
    "duration": 1306,
    "start_time": "2023-03-06T11:33:47.678Z"
   },
   {
    "duration": 1291,
    "start_time": "2023-03-06T11:33:48.986Z"
   },
   {
    "duration": 7,
    "start_time": "2023-03-06T11:33:50.279Z"
   },
   {
    "duration": 1284,
    "start_time": "2023-03-06T11:33:50.288Z"
   },
   {
    "duration": 4,
    "start_time": "2023-03-06T11:35:44.547Z"
   },
   {
    "duration": 6,
    "start_time": "2023-03-06T11:36:08.783Z"
   },
   {
    "duration": 5,
    "start_time": "2023-03-06T11:36:27.887Z"
   },
   {
    "duration": 187,
    "start_time": "2023-03-06T11:37:42.334Z"
   },
   {
    "duration": 3,
    "start_time": "2023-03-06T11:37:58.991Z"
   },
   {
    "duration": 6,
    "start_time": "2023-03-06T11:38:01.547Z"
   },
   {
    "duration": 3,
    "start_time": "2023-03-06T11:38:15.235Z"
   },
   {
    "duration": 6,
    "start_time": "2023-03-06T11:38:16.589Z"
   },
   {
    "duration": 4,
    "start_time": "2023-03-06T11:44:36.401Z"
   },
   {
    "duration": 6,
    "start_time": "2023-03-06T11:44:55.334Z"
   },
   {
    "duration": 5,
    "start_time": "2023-03-06T11:45:12.584Z"
   },
   {
    "duration": 3,
    "start_time": "2023-03-06T11:45:28.535Z"
   },
   {
    "duration": 3,
    "start_time": "2023-03-06T11:45:29.043Z"
   },
   {
    "duration": 3,
    "start_time": "2023-03-06T11:45:43.495Z"
   },
   {
    "duration": 3,
    "start_time": "2023-03-06T11:46:03.547Z"
   },
   {
    "duration": 4,
    "start_time": "2023-03-06T11:46:04.094Z"
   },
   {
    "duration": 4,
    "start_time": "2023-03-06T11:46:08.897Z"
   },
   {
    "duration": 4,
    "start_time": "2023-03-06T11:46:11.895Z"
   },
   {
    "duration": 4,
    "start_time": "2023-03-06T11:52:39.515Z"
   },
   {
    "duration": 4,
    "start_time": "2023-03-06T11:53:10.055Z"
   },
   {
    "duration": 7,
    "start_time": "2023-03-06T11:53:19.703Z"
   },
   {
    "duration": 75,
    "start_time": "2023-03-06T11:56:24.436Z"
   },
   {
    "duration": 75,
    "start_time": "2023-03-06T11:56:36.087Z"
   },
   {
    "duration": 6,
    "start_time": "2023-03-06T11:56:51.598Z"
   },
   {
    "duration": 1230,
    "start_time": "2023-03-06T11:56:52.731Z"
   },
   {
    "duration": 1249,
    "start_time": "2023-03-06T11:57:15.607Z"
   },
   {
    "duration": 1271,
    "start_time": "2023-03-06T11:57:28.855Z"
   },
   {
    "duration": 1443,
    "start_time": "2023-03-06T12:06:20.814Z"
   },
   {
    "duration": 1379,
    "start_time": "2023-03-06T12:06:24.427Z"
   },
   {
    "duration": 1298,
    "start_time": "2023-03-06T12:06:35.287Z"
   },
   {
    "duration": 5,
    "start_time": "2023-03-06T12:08:25.083Z"
   },
   {
    "duration": 4,
    "start_time": "2023-03-06T12:08:25.727Z"
   },
   {
    "duration": 9,
    "start_time": "2023-03-06T12:08:26.355Z"
   },
   {
    "duration": 5,
    "start_time": "2023-03-06T12:09:23.103Z"
   },
   {
    "duration": 4,
    "start_time": "2023-03-06T12:09:23.536Z"
   },
   {
    "duration": 10,
    "start_time": "2023-03-06T12:09:24.027Z"
   },
   {
    "duration": 4,
    "start_time": "2023-03-06T12:09:30.304Z"
   },
   {
    "duration": 4,
    "start_time": "2023-03-06T12:09:32.235Z"
   },
   {
    "duration": 9,
    "start_time": "2023-03-06T12:09:32.707Z"
   },
   {
    "duration": 5,
    "start_time": "2023-03-06T12:09:39.334Z"
   },
   {
    "duration": 3,
    "start_time": "2023-03-06T12:09:39.813Z"
   },
   {
    "duration": 10,
    "start_time": "2023-03-06T12:09:40.216Z"
   },
   {
    "duration": 4,
    "start_time": "2023-03-06T12:09:55.323Z"
   },
   {
    "duration": 6,
    "start_time": "2023-03-06T12:09:55.813Z"
   },
   {
    "duration": 9,
    "start_time": "2023-03-06T12:09:56.211Z"
   },
   {
    "duration": 5,
    "start_time": "2023-03-06T12:10:19.454Z"
   },
   {
    "duration": 3,
    "start_time": "2023-03-06T12:10:20.284Z"
   },
   {
    "duration": 10,
    "start_time": "2023-03-06T12:10:23.988Z"
   },
   {
    "duration": 5,
    "start_time": "2023-03-06T12:11:05.479Z"
   },
   {
    "duration": 4,
    "start_time": "2023-03-06T12:11:05.891Z"
   },
   {
    "duration": 10,
    "start_time": "2023-03-06T12:11:06.487Z"
   },
   {
    "duration": 5,
    "start_time": "2023-03-06T12:12:00.643Z"
   },
   {
    "duration": 3,
    "start_time": "2023-03-06T12:12:01.055Z"
   },
   {
    "duration": 5,
    "start_time": "2023-03-06T12:12:16.135Z"
   },
   {
    "duration": 5,
    "start_time": "2023-03-06T12:12:16.835Z"
   },
   {
    "duration": 8,
    "start_time": "2023-03-06T12:12:17.303Z"
   },
   {
    "duration": 6,
    "start_time": "2023-03-06T12:13:30.714Z"
   },
   {
    "duration": 3,
    "start_time": "2023-03-06T12:13:31.190Z"
   },
   {
    "duration": 9,
    "start_time": "2023-03-06T12:13:31.664Z"
   },
   {
    "duration": 5,
    "start_time": "2023-03-06T12:14:19.305Z"
   },
   {
    "duration": 3,
    "start_time": "2023-03-06T12:14:19.757Z"
   },
   {
    "duration": 9,
    "start_time": "2023-03-06T12:14:20.209Z"
   },
   {
    "duration": 5,
    "start_time": "2023-03-06T12:14:31.999Z"
   },
   {
    "duration": 4,
    "start_time": "2023-03-06T12:14:32.635Z"
   },
   {
    "duration": 11,
    "start_time": "2023-03-06T12:14:33.108Z"
   },
   {
    "duration": 6,
    "start_time": "2023-03-06T12:14:43.854Z"
   },
   {
    "duration": 3,
    "start_time": "2023-03-06T12:14:44.305Z"
   },
   {
    "duration": 10,
    "start_time": "2023-03-06T12:14:44.855Z"
   },
   {
    "duration": 4,
    "start_time": "2023-03-06T12:16:41.702Z"
   },
   {
    "duration": 5,
    "start_time": "2023-03-06T12:16:51.656Z"
   },
   {
    "duration": 4,
    "start_time": "2023-03-06T12:17:02.826Z"
   },
   {
    "duration": 4,
    "start_time": "2023-03-06T12:17:11.635Z"
   },
   {
    "duration": 79,
    "start_time": "2023-03-06T12:19:12.694Z"
   },
   {
    "duration": 7,
    "start_time": "2023-03-06T12:19:30.662Z"
   },
   {
    "duration": 5,
    "start_time": "2023-03-06T12:19:31.556Z"
   },
   {
    "duration": 11,
    "start_time": "2023-03-06T12:19:32.149Z"
   },
   {
    "duration": 9,
    "start_time": "2023-03-06T12:24:27.238Z"
   },
   {
    "duration": 10,
    "start_time": "2023-03-06T12:25:03.864Z"
   },
   {
    "duration": 4,
    "start_time": "2023-03-06T12:25:13.460Z"
   },
   {
    "duration": 6,
    "start_time": "2023-03-06T12:25:20.355Z"
   },
   {
    "duration": 4,
    "start_time": "2023-03-06T12:27:59.917Z"
   },
   {
    "duration": 3,
    "start_time": "2023-03-06T12:28:00.697Z"
   },
   {
    "duration": 4,
    "start_time": "2023-03-06T12:28:01.955Z"
   },
   {
    "duration": 4,
    "start_time": "2023-03-06T12:28:02.856Z"
   },
   {
    "duration": 10,
    "start_time": "2023-03-06T12:28:11.135Z"
   },
   {
    "duration": 7,
    "start_time": "2023-03-06T12:28:18.010Z"
   },
   {
    "duration": 3,
    "start_time": "2023-03-06T12:28:21.624Z"
   },
   {
    "duration": 11,
    "start_time": "2023-03-06T12:28:23.657Z"
   },
   {
    "duration": 3,
    "start_time": "2023-03-06T12:29:02.055Z"
   },
   {
    "duration": 3,
    "start_time": "2023-03-06T12:29:02.600Z"
   },
   {
    "duration": 7,
    "start_time": "2023-03-06T12:29:03.104Z"
   },
   {
    "duration": 13,
    "start_time": "2023-03-06T12:30:08.408Z"
   },
   {
    "duration": 12,
    "start_time": "2023-03-06T12:30:17.857Z"
   },
   {
    "duration": 4261,
    "start_time": "2023-03-06T12:30:44.515Z"
   },
   {
    "duration": 4,
    "start_time": "2023-03-06T12:30:58.252Z"
   },
   {
    "duration": 4,
    "start_time": "2023-03-06T12:30:58.853Z"
   },
   {
    "duration": 9,
    "start_time": "2023-03-06T12:30:59.530Z"
   },
   {
    "duration": 18,
    "start_time": "2023-03-06T12:32:34.601Z"
   },
   {
    "duration": 32,
    "start_time": "2023-03-06T12:33:03.735Z"
   },
   {
    "duration": 20,
    "start_time": "2023-03-06T12:34:13.135Z"
   },
   {
    "duration": 14,
    "start_time": "2023-03-06T12:34:29.995Z"
   },
   {
    "duration": 9,
    "start_time": "2023-03-06T12:39:00.892Z"
   },
   {
    "duration": 17,
    "start_time": "2023-03-06T12:40:26.535Z"
   },
   {
    "duration": 26,
    "start_time": "2023-03-06T12:41:18.787Z"
   },
   {
    "duration": 16,
    "start_time": "2023-03-06T12:42:11.595Z"
   },
   {
    "duration": 12,
    "start_time": "2023-03-06T12:42:31.227Z"
   },
   {
    "duration": 3,
    "start_time": "2023-03-06T12:43:51.694Z"
   },
   {
    "duration": 16,
    "start_time": "2023-03-06T12:44:00.327Z"
   },
   {
    "duration": 13,
    "start_time": "2023-03-06T12:45:15.635Z"
   },
   {
    "duration": 14,
    "start_time": "2023-03-06T12:45:38.009Z"
   },
   {
    "duration": 6,
    "start_time": "2023-03-06T12:45:45.462Z"
   },
   {
    "duration": 3,
    "start_time": "2023-03-06T12:45:46.635Z"
   },
   {
    "duration": 5,
    "start_time": "2023-03-06T12:45:47.155Z"
   },
   {
    "duration": 4,
    "start_time": "2023-03-06T12:45:48.017Z"
   },
   {
    "duration": 8,
    "start_time": "2023-03-06T12:45:49.915Z"
   },
   {
    "duration": 18,
    "start_time": "2023-03-06T12:45:53.306Z"
   },
   {
    "duration": 6648,
    "start_time": "2023-03-06T12:47:18.762Z"
   },
   {
    "duration": 367,
    "start_time": "2023-03-06T12:47:25.412Z"
   },
   {
    "duration": 4,
    "start_time": "2023-03-06T12:47:25.781Z"
   },
   {
    "duration": 123,
    "start_time": "2023-03-06T12:47:25.787Z"
   },
   {
    "duration": 104,
    "start_time": "2023-03-06T12:47:25.912Z"
   },
   {
    "duration": 118,
    "start_time": "2023-03-06T12:47:26.018Z"
   },
   {
    "duration": 8754,
    "start_time": "2023-03-06T12:47:26.138Z"
   },
   {
    "duration": 8596,
    "start_time": "2023-03-06T12:47:34.894Z"
   },
   {
    "duration": 8800,
    "start_time": "2023-03-06T12:47:43.492Z"
   },
   {
    "duration": 10,
    "start_time": "2023-03-06T12:47:52.295Z"
   },
   {
    "duration": 30255,
    "start_time": "2023-03-06T12:47:52.306Z"
   },
   {
    "duration": 19284,
    "start_time": "2023-03-06T12:48:22.567Z"
   },
   {
    "duration": 32986,
    "start_time": "2023-03-06T12:48:41.854Z"
   },
   {
    "duration": 22200,
    "start_time": "2023-03-06T12:49:14.843Z"
   },
   {
    "duration": 9,
    "start_time": "2023-03-06T12:49:37.045Z"
   },
   {
    "duration": 15,
    "start_time": "2023-03-06T12:49:37.055Z"
   },
   {
    "duration": 7,
    "start_time": "2023-03-06T12:49:37.071Z"
   },
   {
    "duration": 7,
    "start_time": "2023-03-06T12:49:37.079Z"
   },
   {
    "duration": 7,
    "start_time": "2023-03-06T12:49:37.088Z"
   },
   {
    "duration": 10,
    "start_time": "2023-03-06T12:49:37.096Z"
   },
   {
    "duration": 1474,
    "start_time": "2023-03-06T12:49:37.108Z"
   },
   {
    "duration": 1575,
    "start_time": "2023-03-06T12:49:38.585Z"
   },
   {
    "duration": 1544,
    "start_time": "2023-03-06T12:49:40.162Z"
   },
   {
    "duration": 10,
    "start_time": "2023-03-06T12:49:41.707Z"
   },
   {
    "duration": 1541,
    "start_time": "2023-03-06T12:49:41.719Z"
   },
   {
    "duration": 3,
    "start_time": "2023-03-06T12:49:43.262Z"
   },
   {
    "duration": 34,
    "start_time": "2023-03-06T12:49:43.267Z"
   },
   {
    "duration": 19,
    "start_time": "2023-03-06T12:49:43.305Z"
   },
   {
    "duration": 9,
    "start_time": "2023-03-06T12:49:43.326Z"
   },
   {
    "duration": 20,
    "start_time": "2023-03-06T12:49:43.337Z"
   },
   {
    "duration": 13,
    "start_time": "2023-03-06T12:49:43.358Z"
   },
   {
    "duration": 8,
    "start_time": "2023-03-06T12:49:43.373Z"
   },
   {
    "duration": 20,
    "start_time": "2023-03-06T12:49:43.383Z"
   },
   {
    "duration": 8,
    "start_time": "2023-03-06T12:49:43.405Z"
   },
   {
    "duration": 23,
    "start_time": "2023-03-06T12:49:43.415Z"
   },
   {
    "duration": 5,
    "start_time": "2023-03-06T12:51:54.316Z"
   },
   {
    "duration": 1455,
    "start_time": "2023-03-06T12:52:26.395Z"
   },
   {
    "duration": 4,
    "start_time": "2023-03-06T12:52:46.435Z"
   },
   {
    "duration": 9,
    "start_time": "2023-03-06T12:54:23.060Z"
   },
   {
    "duration": 4,
    "start_time": "2023-03-06T12:54:24.653Z"
   },
   {
    "duration": 10,
    "start_time": "2023-03-06T12:54:25.248Z"
   },
   {
    "duration": 4,
    "start_time": "2023-03-06T12:54:26.006Z"
   },
   {
    "duration": 9,
    "start_time": "2023-03-06T12:54:27.300Z"
   },
   {
    "duration": 28,
    "start_time": "2023-03-06T12:54:30.499Z"
   },
   {
    "duration": 4,
    "start_time": "2023-03-06T12:57:11.276Z"
   },
   {
    "duration": 5,
    "start_time": "2023-03-06T12:57:35.925Z"
   },
   {
    "duration": 3,
    "start_time": "2023-03-06T12:57:36.979Z"
   },
   {
    "duration": 192,
    "start_time": "2023-03-06T12:57:37.517Z"
   },
   {
    "duration": 15,
    "start_time": "2023-03-06T12:57:48.396Z"
   },
   {
    "duration": 6,
    "start_time": "2023-03-06T12:58:18.802Z"
   },
   {
    "duration": 5,
    "start_time": "2023-03-06T12:58:19.501Z"
   },
   {
    "duration": 5,
    "start_time": "2023-03-06T12:58:21.854Z"
   },
   {
    "duration": 6,
    "start_time": "2023-03-06T12:58:22.532Z"
   },
   {
    "duration": 5,
    "start_time": "2023-03-06T12:58:24.826Z"
   },
   {
    "duration": 7,
    "start_time": "2023-03-06T12:58:25.697Z"
   },
   {
    "duration": 13,
    "start_time": "2023-03-06T12:58:41.409Z"
   },
   {
    "duration": 5,
    "start_time": "2023-03-06T12:59:35.133Z"
   },
   {
    "duration": 6,
    "start_time": "2023-03-06T12:59:35.892Z"
   },
   {
    "duration": 10,
    "start_time": "2023-03-06T12:59:36.637Z"
   },
   {
    "duration": 5,
    "start_time": "2023-03-06T12:59:38.117Z"
   },
   {
    "duration": 3,
    "start_time": "2023-03-06T12:59:38.625Z"
   },
   {
    "duration": 9,
    "start_time": "2023-03-06T12:59:39.194Z"
   },
   {
    "duration": 14,
    "start_time": "2023-03-06T12:59:40.646Z"
   },
   {
    "duration": 21,
    "start_time": "2023-03-06T12:59:42.006Z"
   },
   {
    "duration": 14,
    "start_time": "2023-03-06T13:01:40.374Z"
   },
   {
    "duration": 7,
    "start_time": "2023-03-06T13:01:44.893Z"
   },
   {
    "duration": 6,
    "start_time": "2023-03-06T13:01:45.581Z"
   },
   {
    "duration": 4,
    "start_time": "2023-03-06T13:01:46.386Z"
   },
   {
    "duration": 6,
    "start_time": "2023-03-06T13:01:48.627Z"
   },
   {
    "duration": 14,
    "start_time": "2023-03-06T13:01:49.285Z"
   },
   {
    "duration": 13,
    "start_time": "2023-03-06T13:02:32.269Z"
   },
   {
    "duration": 15,
    "start_time": "2023-03-06T13:02:46.288Z"
   },
   {
    "duration": 6,
    "start_time": "2023-03-06T13:02:50.482Z"
   },
   {
    "duration": 5,
    "start_time": "2023-03-06T13:02:51.172Z"
   },
   {
    "duration": 4,
    "start_time": "2023-03-06T13:02:52.782Z"
   },
   {
    "duration": 5,
    "start_time": "2023-03-06T13:02:53.777Z"
   },
   {
    "duration": 5,
    "start_time": "2023-03-06T13:02:55.156Z"
   },
   {
    "duration": 16,
    "start_time": "2023-03-06T13:09:33.133Z"
   },
   {
    "duration": 30027,
    "start_time": "2023-03-06T13:09:40.734Z"
   },
   {
    "duration": 19430,
    "start_time": "2023-03-06T13:10:22.517Z"
   },
   {
    "duration": 21224,
    "start_time": "2023-03-06T13:11:10.426Z"
   },
   {
    "duration": 25,
    "start_time": "2023-03-06T13:11:45.534Z"
   },
   {
    "duration": 32065,
    "start_time": "2023-03-06T13:12:00.011Z"
   },
   {
    "duration": 5,
    "start_time": "2023-03-06T13:12:42.878Z"
   },
   {
    "duration": 5,
    "start_time": "2023-03-06T13:12:44.003Z"
   },
   {
    "duration": 5,
    "start_time": "2023-03-06T13:13:33.406Z"
   },
   {
    "duration": 4,
    "start_time": "2023-03-06T13:13:34.527Z"
   },
   {
    "duration": 7,
    "start_time": "2023-03-06T13:13:35.334Z"
   },
   {
    "duration": 4,
    "start_time": "2023-03-06T13:13:36.266Z"
   },
   {
    "duration": 20,
    "start_time": "2023-03-06T13:13:41.239Z"
   },
   {
    "duration": 25,
    "start_time": "2023-03-06T13:13:44.998Z"
   },
   {
    "duration": 13,
    "start_time": "2023-03-06T13:15:50.480Z"
   },
   {
    "duration": 6,
    "start_time": "2023-03-06T13:15:53.830Z"
   },
   {
    "duration": 5,
    "start_time": "2023-03-06T13:15:54.520Z"
   },
   {
    "duration": 4,
    "start_time": "2023-03-06T13:15:56.213Z"
   },
   {
    "duration": 6,
    "start_time": "2023-03-06T13:15:56.823Z"
   },
   {
    "duration": 4,
    "start_time": "2023-03-06T13:15:57.622Z"
   },
   {
    "duration": 9,
    "start_time": "2023-03-06T13:16:00.702Z"
   },
   {
    "duration": 17,
    "start_time": "2023-03-06T13:16:02.840Z"
   },
   {
    "duration": 20,
    "start_time": "2023-03-06T13:16:05.374Z"
   },
   {
    "duration": 7,
    "start_time": "2023-03-06T13:18:42.228Z"
   },
   {
    "duration": 5,
    "start_time": "2023-03-06T13:18:42.773Z"
   },
   {
    "duration": 3,
    "start_time": "2023-03-06T13:18:44.032Z"
   },
   {
    "duration": 7,
    "start_time": "2023-03-06T13:18:44.603Z"
   },
   {
    "duration": 7,
    "start_time": "2023-03-06T13:18:45.804Z"
   },
   {
    "duration": 8,
    "start_time": "2023-03-06T13:18:49.930Z"
   },
   {
    "duration": 10,
    "start_time": "2023-03-06T13:18:51.133Z"
   },
   {
    "duration": 22,
    "start_time": "2023-03-06T13:18:53.601Z"
   },
   {
    "duration": 3,
    "start_time": "2023-03-06T13:22:05.621Z"
   },
   {
    "duration": 161,
    "start_time": "2023-03-06T13:22:06.441Z"
   },
   {
    "duration": 3,
    "start_time": "2023-03-06T13:22:26.070Z"
   },
   {
    "duration": 112,
    "start_time": "2023-03-06T13:22:26.681Z"
   },
   {
    "duration": 4,
    "start_time": "2023-03-06T13:22:55.657Z"
   },
   {
    "duration": 169,
    "start_time": "2023-03-06T13:22:56.593Z"
   },
   {
    "duration": 146,
    "start_time": "2023-03-06T13:23:02.301Z"
   },
   {
    "duration": 135,
    "start_time": "2023-03-06T13:23:05.801Z"
   },
   {
    "duration": 5994,
    "start_time": "2023-03-06T13:50:30.864Z"
   },
   {
    "duration": 360,
    "start_time": "2023-03-06T13:50:36.862Z"
   },
   {
    "duration": 4,
    "start_time": "2023-03-06T13:50:37.224Z"
   },
   {
    "duration": 167,
    "start_time": "2023-03-06T13:50:37.230Z"
   },
   {
    "duration": 124,
    "start_time": "2023-03-06T13:50:37.399Z"
   },
   {
    "duration": 144,
    "start_time": "2023-03-06T13:50:37.525Z"
   },
   {
    "duration": 9090,
    "start_time": "2023-03-06T13:50:37.670Z"
   },
   {
    "duration": 8010,
    "start_time": "2023-03-06T13:50:46.762Z"
   },
   {
    "duration": 8624,
    "start_time": "2023-03-06T13:50:54.774Z"
   },
   {
    "duration": 9,
    "start_time": "2023-03-06T13:51:03.400Z"
   },
   {
    "duration": 29832,
    "start_time": "2023-03-06T13:51:03.411Z"
   },
   {
    "duration": 19016,
    "start_time": "2023-03-06T13:51:33.245Z"
   },
   {
    "duration": 31623,
    "start_time": "2023-03-06T13:51:52.341Z"
   },
   {
    "duration": 21299,
    "start_time": "2023-03-06T13:52:23.968Z"
   },
   {
    "duration": 4,
    "start_time": "2023-03-06T13:52:45.269Z"
   },
   {
    "duration": 12,
    "start_time": "2023-03-06T13:52:45.275Z"
   },
   {
    "duration": 8,
    "start_time": "2023-03-06T13:52:45.289Z"
   },
   {
    "duration": 5,
    "start_time": "2023-03-06T13:52:45.299Z"
   },
   {
    "duration": 6,
    "start_time": "2023-03-06T13:52:45.306Z"
   },
   {
    "duration": 10,
    "start_time": "2023-03-06T13:52:45.313Z"
   },
   {
    "duration": 8,
    "start_time": "2023-03-06T13:52:45.340Z"
   },
   {
    "duration": 1538,
    "start_time": "2023-03-06T13:52:45.350Z"
   },
   {
    "duration": 1375,
    "start_time": "2023-03-06T13:52:46.890Z"
   },
   {
    "duration": 1311,
    "start_time": "2023-03-06T13:52:48.267Z"
   },
   {
    "duration": 8,
    "start_time": "2023-03-06T13:52:49.580Z"
   },
   {
    "duration": 1400,
    "start_time": "2023-03-06T13:52:49.590Z"
   },
   {
    "duration": 3,
    "start_time": "2023-03-06T13:52:50.992Z"
   },
   {
    "duration": 7,
    "start_time": "2023-03-06T13:52:50.997Z"
   },
   {
    "duration": 10,
    "start_time": "2023-03-06T13:52:51.005Z"
   },
   {
    "duration": 10,
    "start_time": "2023-03-06T13:52:51.017Z"
   },
   {
    "duration": 12,
    "start_time": "2023-03-06T13:52:51.029Z"
   },
   {
    "duration": 18,
    "start_time": "2023-03-06T13:52:51.042Z"
   },
   {
    "duration": 14,
    "start_time": "2023-03-06T13:52:51.062Z"
   },
   {
    "duration": 7,
    "start_time": "2023-03-06T13:52:51.078Z"
   },
   {
    "duration": 8,
    "start_time": "2023-03-06T13:52:51.087Z"
   },
   {
    "duration": 20,
    "start_time": "2023-03-06T13:52:51.097Z"
   },
   {
    "duration": 8,
    "start_time": "2023-03-06T13:52:51.118Z"
   },
   {
    "duration": 21,
    "start_time": "2023-03-06T13:52:51.127Z"
   },
   {
    "duration": 32,
    "start_time": "2023-03-06T13:52:51.149Z"
   },
   {
    "duration": 5,
    "start_time": "2023-03-06T14:05:42.599Z"
   },
   {
    "duration": 4,
    "start_time": "2023-03-06T14:05:55.719Z"
   },
   {
    "duration": 5,
    "start_time": "2023-03-06T14:05:56.411Z"
   },
   {
    "duration": 3,
    "start_time": "2023-03-06T14:07:15.720Z"
   },
   {
    "duration": 3,
    "start_time": "2023-03-06T14:07:23.442Z"
   },
   {
    "duration": 3,
    "start_time": "2023-03-06T14:07:29.161Z"
   },
   {
    "duration": 3,
    "start_time": "2023-03-06T14:07:55.984Z"
   },
   {
    "duration": 4,
    "start_time": "2023-03-06T14:08:13.083Z"
   },
   {
    "duration": 4,
    "start_time": "2023-03-06T14:08:24.075Z"
   },
   {
    "duration": 6,
    "start_time": "2023-03-06T14:08:45.085Z"
   },
   {
    "duration": 5,
    "start_time": "2023-03-06T14:08:45.900Z"
   },
   {
    "duration": 4,
    "start_time": "2023-03-06T14:08:46.886Z"
   },
   {
    "duration": 7,
    "start_time": "2023-03-06T14:08:48.701Z"
   },
   {
    "duration": 4,
    "start_time": "2023-03-06T14:08:49.296Z"
   },
   {
    "duration": 167,
    "start_time": "2023-03-06T14:09:00.248Z"
   },
   {
    "duration": 13,
    "start_time": "2023-03-06T14:09:00.791Z"
   },
   {
    "duration": 5,
    "start_time": "2023-03-06T14:09:03.336Z"
   },
   {
    "duration": 5,
    "start_time": "2023-03-06T14:09:03.921Z"
   },
   {
    "duration": 3,
    "start_time": "2023-03-06T14:09:05.188Z"
   },
   {
    "duration": 4,
    "start_time": "2023-03-06T14:09:05.996Z"
   },
   {
    "duration": 3,
    "start_time": "2023-03-06T14:09:07.375Z"
   },
   {
    "duration": 22,
    "start_time": "2023-03-06T14:09:11.247Z"
   },
   {
    "duration": 5,
    "start_time": "2023-03-06T14:20:56.995Z"
   },
   {
    "duration": 5,
    "start_time": "2023-03-06T14:20:57.497Z"
   },
   {
    "duration": 3,
    "start_time": "2023-03-06T14:20:59.078Z"
   },
   {
    "duration": 4,
    "start_time": "2023-03-06T14:20:59.609Z"
   },
   {
    "duration": 4,
    "start_time": "2023-03-06T14:21:00.095Z"
   },
   {
    "duration": 27,
    "start_time": "2023-03-06T14:21:04.940Z"
   },
   {
    "duration": 5703,
    "start_time": "2023-03-06T14:28:33.591Z"
   },
   {
    "duration": 374,
    "start_time": "2023-03-06T14:28:39.296Z"
   },
   {
    "duration": 3,
    "start_time": "2023-03-06T14:28:39.672Z"
   },
   {
    "duration": 151,
    "start_time": "2023-03-06T14:28:39.677Z"
   },
   {
    "duration": 140,
    "start_time": "2023-03-06T14:28:39.830Z"
   },
   {
    "duration": 152,
    "start_time": "2023-03-06T14:28:39.971Z"
   },
   {
    "duration": 8922,
    "start_time": "2023-03-06T14:28:40.125Z"
   },
   {
    "duration": 7514,
    "start_time": "2023-03-06T14:28:49.049Z"
   },
   {
    "duration": 8050,
    "start_time": "2023-03-06T14:28:56.566Z"
   },
   {
    "duration": 24,
    "start_time": "2023-03-06T14:29:04.618Z"
   },
   {
    "duration": 28004,
    "start_time": "2023-03-06T14:29:04.644Z"
   },
   {
    "duration": 18718,
    "start_time": "2023-03-06T14:29:32.740Z"
   },
   {
    "duration": 29984,
    "start_time": "2023-03-06T14:29:51.460Z"
   },
   {
    "duration": 20067,
    "start_time": "2023-03-06T14:30:21.446Z"
   },
   {
    "duration": 4,
    "start_time": "2023-03-06T14:30:41.514Z"
   },
   {
    "duration": 21,
    "start_time": "2023-03-06T14:30:41.519Z"
   },
   {
    "duration": 8,
    "start_time": "2023-03-06T14:30:41.542Z"
   },
   {
    "duration": 12,
    "start_time": "2023-03-06T14:30:41.551Z"
   },
   {
    "duration": 8,
    "start_time": "2023-03-06T14:30:41.564Z"
   },
   {
    "duration": 6,
    "start_time": "2023-03-06T14:30:41.574Z"
   },
   {
    "duration": 8,
    "start_time": "2023-03-06T14:30:41.582Z"
   },
   {
    "duration": 1462,
    "start_time": "2023-03-06T14:30:41.592Z"
   },
   {
    "duration": 1340,
    "start_time": "2023-03-06T14:30:43.055Z"
   },
   {
    "duration": 1282,
    "start_time": "2023-03-06T14:30:44.397Z"
   },
   {
    "duration": 9,
    "start_time": "2023-03-06T14:30:45.681Z"
   },
   {
    "duration": 1409,
    "start_time": "2023-03-06T14:30:45.692Z"
   },
   {
    "duration": 3,
    "start_time": "2023-03-06T14:30:47.102Z"
   },
   {
    "duration": 13,
    "start_time": "2023-03-06T14:30:47.108Z"
   },
   {
    "duration": 14,
    "start_time": "2023-03-06T14:30:47.122Z"
   },
   {
    "duration": 7,
    "start_time": "2023-03-06T14:30:47.138Z"
   },
   {
    "duration": 13,
    "start_time": "2023-03-06T14:30:47.147Z"
   },
   {
    "duration": 10,
    "start_time": "2023-03-06T14:30:47.162Z"
   },
   {
    "duration": 13,
    "start_time": "2023-03-06T14:30:47.173Z"
   },
   {
    "duration": 9,
    "start_time": "2023-03-06T14:30:47.191Z"
   },
   {
    "duration": 38,
    "start_time": "2023-03-06T14:30:47.202Z"
   },
   {
    "duration": 13,
    "start_time": "2023-03-06T14:30:47.242Z"
   },
   {
    "duration": 15,
    "start_time": "2023-03-06T14:30:47.257Z"
   },
   {
    "duration": 18,
    "start_time": "2023-03-06T14:30:47.274Z"
   },
   {
    "duration": 37,
    "start_time": "2023-03-06T14:30:47.294Z"
   },
   {
    "duration": 12,
    "start_time": "2023-03-06T14:30:47.333Z"
   },
   {
    "duration": 12,
    "start_time": "2023-03-06T14:30:47.346Z"
   },
   {
    "duration": 29,
    "start_time": "2023-03-06T14:30:47.359Z"
   },
   {
    "duration": 53,
    "start_time": "2023-03-07T09:15:24.558Z"
   },
   {
    "duration": 21344,
    "start_time": "2023-03-07T10:14:08.202Z"
   },
   {
    "duration": 775,
    "start_time": "2023-03-07T10:14:29.548Z"
   },
   {
    "duration": 3,
    "start_time": "2023-03-07T10:14:30.325Z"
   },
   {
    "duration": 184,
    "start_time": "2023-03-07T10:14:30.330Z"
   },
   {
    "duration": 162,
    "start_time": "2023-03-07T10:14:30.516Z"
   },
   {
    "duration": 170,
    "start_time": "2023-03-07T10:14:30.680Z"
   },
   {
    "duration": 9597,
    "start_time": "2023-03-07T10:14:30.852Z"
   },
   {
    "duration": 8231,
    "start_time": "2023-03-07T10:14:40.451Z"
   },
   {
    "duration": 8776,
    "start_time": "2023-03-07T10:14:48.684Z"
   },
   {
    "duration": 11,
    "start_time": "2023-03-07T10:14:57.462Z"
   },
   {
    "duration": 32582,
    "start_time": "2023-03-07T10:14:57.474Z"
   },
   {
    "duration": 20901,
    "start_time": "2023-03-07T10:15:30.059Z"
   },
   {
    "duration": 34303,
    "start_time": "2023-03-07T10:15:50.962Z"
   },
   {
    "duration": 21964,
    "start_time": "2023-03-07T10:16:25.356Z"
   },
   {
    "duration": 4,
    "start_time": "2023-03-07T10:16:47.322Z"
   },
   {
    "duration": 18,
    "start_time": "2023-03-07T10:16:47.328Z"
   },
   {
    "duration": 10,
    "start_time": "2023-03-07T10:16:47.348Z"
   },
   {
    "duration": 7,
    "start_time": "2023-03-07T10:16:47.359Z"
   },
   {
    "duration": 5,
    "start_time": "2023-03-07T10:16:47.368Z"
   },
   {
    "duration": 11,
    "start_time": "2023-03-07T10:16:47.374Z"
   },
   {
    "duration": 24,
    "start_time": "2023-03-07T10:16:47.387Z"
   },
   {
    "duration": 0,
    "start_time": "2023-03-07T10:16:47.413Z"
   },
   {
    "duration": 0,
    "start_time": "2023-03-07T10:16:47.415Z"
   },
   {
    "duration": 0,
    "start_time": "2023-03-07T10:16:47.416Z"
   },
   {
    "duration": 0,
    "start_time": "2023-03-07T10:16:47.417Z"
   },
   {
    "duration": 0,
    "start_time": "2023-03-07T10:16:47.418Z"
   },
   {
    "duration": 0,
    "start_time": "2023-03-07T10:16:47.419Z"
   },
   {
    "duration": 0,
    "start_time": "2023-03-07T10:16:47.420Z"
   },
   {
    "duration": 0,
    "start_time": "2023-03-07T10:16:47.422Z"
   },
   {
    "duration": 0,
    "start_time": "2023-03-07T10:16:47.423Z"
   },
   {
    "duration": 0,
    "start_time": "2023-03-07T10:16:47.424Z"
   },
   {
    "duration": 0,
    "start_time": "2023-03-07T10:16:47.425Z"
   },
   {
    "duration": 0,
    "start_time": "2023-03-07T10:16:47.426Z"
   },
   {
    "duration": 0,
    "start_time": "2023-03-07T10:16:47.427Z"
   },
   {
    "duration": 0,
    "start_time": "2023-03-07T10:16:47.428Z"
   },
   {
    "duration": 0,
    "start_time": "2023-03-07T10:16:47.458Z"
   },
   {
    "duration": 0,
    "start_time": "2023-03-07T10:16:47.459Z"
   },
   {
    "duration": 0,
    "start_time": "2023-03-07T10:16:47.461Z"
   },
   {
    "duration": 1,
    "start_time": "2023-03-07T10:16:47.462Z"
   },
   {
    "duration": 0,
    "start_time": "2023-03-07T10:16:47.464Z"
   },
   {
    "duration": 0,
    "start_time": "2023-03-07T10:16:47.465Z"
   },
   {
    "duration": 0,
    "start_time": "2023-03-07T10:16:47.466Z"
   },
   {
    "duration": 6,
    "start_time": "2023-03-07T10:18:40.983Z"
   },
   {
    "duration": 185,
    "start_time": "2023-03-07T10:18:47.540Z"
   },
   {
    "duration": 7,
    "start_time": "2023-03-07T10:19:26.861Z"
   },
   {
    "duration": 1348,
    "start_time": "2023-03-07T10:19:32.423Z"
   },
   {
    "duration": 6,
    "start_time": "2023-03-07T10:22:35.536Z"
   },
   {
    "duration": 1429,
    "start_time": "2023-03-07T10:22:40.607Z"
   },
   {
    "duration": 6,
    "start_time": "2023-03-07T10:25:53.276Z"
   },
   {
    "duration": 1426,
    "start_time": "2023-03-07T10:25:58.462Z"
   },
   {
    "duration": 5,
    "start_time": "2023-03-07T10:26:20.927Z"
   },
   {
    "duration": 6,
    "start_time": "2023-03-07T10:26:56.135Z"
   },
   {
    "duration": 1478,
    "start_time": "2023-03-07T10:27:01.252Z"
   },
   {
    "duration": 5,
    "start_time": "2023-03-07T10:27:09.276Z"
   },
   {
    "duration": 6,
    "start_time": "2023-03-07T10:27:36.235Z"
   },
   {
    "duration": 1384,
    "start_time": "2023-03-07T10:27:40.975Z"
   },
   {
    "duration": 6,
    "start_time": "2023-03-07T10:28:04.355Z"
   },
   {
    "duration": 1317,
    "start_time": "2023-03-07T10:28:09.414Z"
   },
   {
    "duration": 1327,
    "start_time": "2023-03-07T10:28:16.559Z"
   },
   {
    "duration": 1354,
    "start_time": "2023-03-07T10:28:21.807Z"
   },
   {
    "duration": 7,
    "start_time": "2023-03-07T10:30:04.324Z"
   },
   {
    "duration": 1353,
    "start_time": "2023-03-07T10:30:13.335Z"
   },
   {
    "duration": 1319,
    "start_time": "2023-03-07T10:30:50.639Z"
   },
   {
    "duration": 1350,
    "start_time": "2023-03-07T10:31:06.268Z"
   },
   {
    "duration": 1341,
    "start_time": "2023-03-07T10:31:18.875Z"
   },
   {
    "duration": 7,
    "start_time": "2023-03-07T10:40:03.344Z"
   },
   {
    "duration": 1332,
    "start_time": "2023-03-07T10:40:08.696Z"
   },
   {
    "duration": 6,
    "start_time": "2023-03-07T10:40:55.604Z"
   },
   {
    "duration": 1377,
    "start_time": "2023-03-07T10:40:59.936Z"
   },
   {
    "duration": 9,
    "start_time": "2023-03-07T10:41:59.778Z"
   },
   {
    "duration": 1392,
    "start_time": "2023-03-07T10:42:03.615Z"
   },
   {
    "duration": 1360,
    "start_time": "2023-03-07T10:42:12.218Z"
   },
   {
    "duration": 1347,
    "start_time": "2023-03-07T10:42:16.977Z"
   },
   {
    "duration": 8,
    "start_time": "2023-03-07T10:42:23.736Z"
   },
   {
    "duration": 1420,
    "start_time": "2023-03-07T10:42:24.908Z"
   },
   {
    "duration": 6,
    "start_time": "2023-03-07T10:45:41.285Z"
   },
   {
    "duration": 1381,
    "start_time": "2023-03-07T10:45:45.677Z"
   },
   {
    "duration": 6,
    "start_time": "2023-03-07T10:46:12.367Z"
   },
   {
    "duration": 1389,
    "start_time": "2023-03-07T10:46:16.657Z"
   },
   {
    "duration": 1378,
    "start_time": "2023-03-07T10:46:33.116Z"
   },
   {
    "duration": 1341,
    "start_time": "2023-03-07T10:46:45.649Z"
   },
   {
    "duration": 8,
    "start_time": "2023-03-07T10:50:01.765Z"
   },
   {
    "duration": 1387,
    "start_time": "2023-03-07T10:50:05.938Z"
   },
   {
    "duration": 8,
    "start_time": "2023-03-07T10:50:48.632Z"
   },
   {
    "duration": 1543,
    "start_time": "2023-03-07T10:50:54.136Z"
   },
   {
    "duration": 7,
    "start_time": "2023-03-07T10:51:28.955Z"
   },
   {
    "duration": 1415,
    "start_time": "2023-03-07T10:51:33.247Z"
   },
   {
    "duration": 6990,
    "start_time": "2023-03-07T11:00:32.172Z"
   },
   {
    "duration": 455,
    "start_time": "2023-03-07T11:00:39.165Z"
   },
   {
    "duration": 3,
    "start_time": "2023-03-07T11:00:39.622Z"
   },
   {
    "duration": 191,
    "start_time": "2023-03-07T11:00:39.627Z"
   },
   {
    "duration": 151,
    "start_time": "2023-03-07T11:00:39.821Z"
   },
   {
    "duration": 164,
    "start_time": "2023-03-07T11:00:39.974Z"
   },
   {
    "duration": 10477,
    "start_time": "2023-03-07T11:00:40.140Z"
   },
   {
    "duration": 9357,
    "start_time": "2023-03-07T11:00:50.619Z"
   },
   {
    "duration": 10267,
    "start_time": "2023-03-07T11:00:59.978Z"
   },
   {
    "duration": 24,
    "start_time": "2023-03-07T11:01:10.258Z"
   },
   {
    "duration": 35977,
    "start_time": "2023-03-07T11:01:10.284Z"
   },
   {
    "duration": 23994,
    "start_time": "2023-03-07T11:01:46.265Z"
   },
   {
    "duration": 38106,
    "start_time": "2023-03-07T11:02:10.262Z"
   },
   {
    "duration": 24908,
    "start_time": "2023-03-07T11:02:48.375Z"
   },
   {
    "duration": 4,
    "start_time": "2023-03-07T11:03:13.285Z"
   },
   {
    "duration": 17,
    "start_time": "2023-03-07T11:03:13.290Z"
   },
   {
    "duration": 7,
    "start_time": "2023-03-07T11:03:13.309Z"
   },
   {
    "duration": 21,
    "start_time": "2023-03-07T11:03:13.318Z"
   },
   {
    "duration": 15,
    "start_time": "2023-03-07T11:03:13.341Z"
   },
   {
    "duration": 11,
    "start_time": "2023-03-07T11:03:13.359Z"
   },
   {
    "duration": 23,
    "start_time": "2023-03-07T11:03:13.373Z"
   },
   {
    "duration": 1552,
    "start_time": "2023-03-07T11:03:13.398Z"
   },
   {
    "duration": 1650,
    "start_time": "2023-03-07T11:03:14.952Z"
   },
   {
    "duration": 1572,
    "start_time": "2023-03-07T11:03:16.604Z"
   },
   {
    "duration": 9,
    "start_time": "2023-03-07T11:03:18.179Z"
   },
   {
    "duration": 1566,
    "start_time": "2023-03-07T11:03:18.189Z"
   },
   {
    "duration": 5,
    "start_time": "2023-03-07T11:03:19.757Z"
   },
   {
    "duration": 22,
    "start_time": "2023-03-07T11:03:19.766Z"
   },
   {
    "duration": 20,
    "start_time": "2023-03-07T11:03:19.790Z"
   },
   {
    "duration": 6,
    "start_time": "2023-03-07T11:03:19.813Z"
   },
   {
    "duration": 19,
    "start_time": "2023-03-07T11:03:19.821Z"
   },
   {
    "duration": 18,
    "start_time": "2023-03-07T11:03:19.842Z"
   },
   {
    "duration": 19,
    "start_time": "2023-03-07T11:03:19.863Z"
   },
   {
    "duration": 21,
    "start_time": "2023-03-07T11:03:19.884Z"
   },
   {
    "duration": 23,
    "start_time": "2023-03-07T11:03:19.907Z"
   },
   {
    "duration": 21,
    "start_time": "2023-03-07T11:03:19.931Z"
   },
   {
    "duration": 29,
    "start_time": "2023-03-07T11:03:19.954Z"
   },
   {
    "duration": 20,
    "start_time": "2023-03-07T11:03:19.985Z"
   },
   {
    "duration": 26,
    "start_time": "2023-03-07T11:03:20.007Z"
   },
   {
    "duration": 14,
    "start_time": "2023-03-07T11:03:20.035Z"
   },
   {
    "duration": 31,
    "start_time": "2023-03-07T11:03:20.053Z"
   },
   {
    "duration": 32,
    "start_time": "2023-03-07T11:03:20.085Z"
   },
   {
    "duration": 19321,
    "start_time": "2023-03-07T19:22:43.044Z"
   },
   {
    "duration": 741,
    "start_time": "2023-03-07T19:23:02.367Z"
   },
   {
    "duration": 3,
    "start_time": "2023-03-07T19:23:03.110Z"
   },
   {
    "duration": 198,
    "start_time": "2023-03-07T19:23:03.114Z"
   },
   {
    "duration": 149,
    "start_time": "2023-03-07T19:23:03.314Z"
   },
   {
    "duration": 140,
    "start_time": "2023-03-07T19:23:03.464Z"
   },
   {
    "duration": 8797,
    "start_time": "2023-03-07T19:23:03.605Z"
   },
   {
    "duration": 8383,
    "start_time": "2023-03-07T19:23:12.404Z"
   },
   {
    "duration": 10014,
    "start_time": "2023-03-07T19:23:20.789Z"
   },
   {
    "duration": 29,
    "start_time": "2023-03-07T19:23:30.804Z"
   },
   {
    "duration": 29198,
    "start_time": "2023-03-07T19:23:30.835Z"
   },
   {
    "duration": 18299,
    "start_time": "2023-03-07T19:24:00.035Z"
   },
   {
    "duration": 30603,
    "start_time": "2023-03-07T19:24:18.338Z"
   },
   {
    "duration": 19910,
    "start_time": "2023-03-07T19:24:49.031Z"
   },
   {
    "duration": 3,
    "start_time": "2023-03-07T19:25:08.943Z"
   },
   {
    "duration": 27,
    "start_time": "2023-03-07T19:25:08.948Z"
   },
   {
    "duration": 8,
    "start_time": "2023-03-07T19:25:08.977Z"
   },
   {
    "duration": 5,
    "start_time": "2023-03-07T19:25:08.986Z"
   },
   {
    "duration": 7,
    "start_time": "2023-03-07T19:25:08.992Z"
   },
   {
    "duration": 7,
    "start_time": "2023-03-07T19:25:09.000Z"
   },
   {
    "duration": 10,
    "start_time": "2023-03-07T19:25:09.008Z"
   },
   {
    "duration": 1310,
    "start_time": "2023-03-07T19:25:09.019Z"
   },
   {
    "duration": 1294,
    "start_time": "2023-03-07T19:25:10.331Z"
   },
   {
    "duration": 1298,
    "start_time": "2023-03-07T19:25:11.630Z"
   },
   {
    "duration": 9,
    "start_time": "2023-03-07T19:25:12.930Z"
   },
   {
    "duration": 1244,
    "start_time": "2023-03-07T19:25:12.941Z"
   },
   {
    "duration": 3,
    "start_time": "2023-03-07T19:25:14.186Z"
   },
   {
    "duration": 14,
    "start_time": "2023-03-07T19:25:14.191Z"
   },
   {
    "duration": 6,
    "start_time": "2023-03-07T19:25:14.206Z"
   },
   {
    "duration": 7,
    "start_time": "2023-03-07T19:25:14.213Z"
   },
   {
    "duration": 11,
    "start_time": "2023-03-07T19:25:14.221Z"
   },
   {
    "duration": 3,
    "start_time": "2023-03-07T19:25:14.233Z"
   },
   {
    "duration": 8,
    "start_time": "2023-03-07T19:25:14.237Z"
   },
   {
    "duration": 9,
    "start_time": "2023-03-07T19:25:14.247Z"
   },
   {
    "duration": 11,
    "start_time": "2023-03-07T19:25:14.257Z"
   },
   {
    "duration": 6,
    "start_time": "2023-03-07T19:25:14.269Z"
   },
   {
    "duration": 10,
    "start_time": "2023-03-07T19:25:14.277Z"
   },
   {
    "duration": 8,
    "start_time": "2023-03-07T19:25:14.289Z"
   },
   {
    "duration": 22,
    "start_time": "2023-03-07T19:25:14.298Z"
   },
   {
    "duration": 13,
    "start_time": "2023-03-07T19:25:14.322Z"
   },
   {
    "duration": 12,
    "start_time": "2023-03-07T19:25:14.338Z"
   },
   {
    "duration": 26,
    "start_time": "2023-03-07T19:25:14.352Z"
   },
   {
    "duration": 7,
    "start_time": "2023-03-07T19:33:57.564Z"
   },
   {
    "duration": 6,
    "start_time": "2023-03-07T19:38:29.065Z"
   },
   {
    "duration": 1363,
    "start_time": "2023-03-07T19:38:34.503Z"
   },
   {
    "duration": 5,
    "start_time": "2023-03-07T19:39:18.113Z"
   },
   {
    "duration": 1281,
    "start_time": "2023-03-07T19:39:25.555Z"
   },
   {
    "duration": 1258,
    "start_time": "2023-03-07T19:39:30.092Z"
   },
   {
    "duration": 1235,
    "start_time": "2023-03-07T19:39:38.410Z"
   },
   {
    "duration": 5,
    "start_time": "2023-03-07T19:39:42.647Z"
   },
   {
    "duration": 4,
    "start_time": "2023-03-07T19:39:43.851Z"
   },
   {
    "duration": 3,
    "start_time": "2023-03-07T19:39:44.873Z"
   },
   {
    "duration": 5,
    "start_time": "2023-03-07T19:39:46.643Z"
   },
   {
    "duration": 4,
    "start_time": "2023-03-07T19:39:47.565Z"
   },
   {
    "duration": 8,
    "start_time": "2023-03-07T19:39:50.791Z"
   },
   {
    "duration": 11,
    "start_time": "2023-03-07T19:39:53.951Z"
   },
   {
    "duration": 25,
    "start_time": "2023-03-07T19:39:57.175Z"
   },
   {
    "duration": 5,
    "start_time": "2023-03-07T19:41:09.791Z"
   },
   {
    "duration": 169,
    "start_time": "2023-03-07T19:41:15.690Z"
   },
   {
    "duration": 6,
    "start_time": "2023-03-07T19:41:51.926Z"
   },
   {
    "duration": 13,
    "start_time": "2023-03-07T19:41:55.357Z"
   },
   {
    "duration": 6,
    "start_time": "2023-03-07T19:42:02.385Z"
   },
   {
    "duration": 4,
    "start_time": "2023-03-07T19:42:03.137Z"
   },
   {
    "duration": 2,
    "start_time": "2023-03-07T19:42:03.823Z"
   },
   {
    "duration": 5,
    "start_time": "2023-03-07T19:42:07.530Z"
   },
   {
    "duration": 3,
    "start_time": "2023-03-07T19:42:07.563Z"
   },
   {
    "duration": 5,
    "start_time": "2023-03-07T19:42:34.613Z"
   },
   {
    "duration": 5,
    "start_time": "2023-03-07T19:42:35.085Z"
   },
   {
    "duration": 4,
    "start_time": "2023-03-07T19:42:35.436Z"
   },
   {
    "duration": 6,
    "start_time": "2023-03-07T19:42:35.828Z"
   },
   {
    "duration": 5,
    "start_time": "2023-03-07T19:42:36.522Z"
   },
   {
    "duration": 7,
    "start_time": "2023-03-07T19:42:38.384Z"
   },
   {
    "duration": 11,
    "start_time": "2023-03-07T19:42:42.270Z"
   },
   {
    "duration": 27,
    "start_time": "2023-03-07T19:42:43.405Z"
   },
   {
    "duration": 5907,
    "start_time": "2023-03-07T19:56:16.460Z"
   },
   {
    "duration": 400,
    "start_time": "2023-03-07T19:56:22.369Z"
   },
   {
    "duration": 3,
    "start_time": "2023-03-07T19:56:22.771Z"
   },
   {
    "duration": 144,
    "start_time": "2023-03-07T19:56:22.776Z"
   },
   {
    "duration": 132,
    "start_time": "2023-03-07T19:56:22.922Z"
   },
   {
    "duration": 144,
    "start_time": "2023-03-07T19:56:23.055Z"
   },
   {
    "duration": 8935,
    "start_time": "2023-03-07T19:56:23.200Z"
   },
   {
    "duration": 8105,
    "start_time": "2023-03-07T19:56:32.137Z"
   },
   {
    "duration": 8752,
    "start_time": "2023-03-07T19:56:40.244Z"
   },
   {
    "duration": 33,
    "start_time": "2023-03-07T19:56:48.998Z"
   },
   {
    "duration": 29402,
    "start_time": "2023-03-07T19:56:49.033Z"
   },
   {
    "duration": 18612,
    "start_time": "2023-03-07T19:57:18.437Z"
   },
   {
    "duration": 30381,
    "start_time": "2023-03-07T19:57:37.050Z"
   },
   {
    "duration": 19379,
    "start_time": "2023-03-07T19:58:07.440Z"
   },
   {
    "duration": 4,
    "start_time": "2023-03-07T19:58:26.830Z"
   },
   {
    "duration": 15,
    "start_time": "2023-03-07T19:58:26.835Z"
   },
   {
    "duration": 11,
    "start_time": "2023-03-07T19:58:26.852Z"
   },
   {
    "duration": 7,
    "start_time": "2023-03-07T19:58:26.864Z"
   },
   {
    "duration": 5,
    "start_time": "2023-03-07T19:58:26.872Z"
   },
   {
    "duration": 11,
    "start_time": "2023-03-07T19:58:26.878Z"
   },
   {
    "duration": 7,
    "start_time": "2023-03-07T19:58:26.891Z"
   },
   {
    "duration": 1260,
    "start_time": "2023-03-07T19:58:26.899Z"
   },
   {
    "duration": 1217,
    "start_time": "2023-03-07T19:58:28.160Z"
   },
   {
    "duration": 1231,
    "start_time": "2023-03-07T19:58:29.378Z"
   },
   {
    "duration": 7,
    "start_time": "2023-03-07T19:58:30.611Z"
   },
   {
    "duration": 1238,
    "start_time": "2023-03-07T19:58:30.620Z"
   },
   {
    "duration": 2,
    "start_time": "2023-03-07T19:58:31.860Z"
   },
   {
    "duration": 27,
    "start_time": "2023-03-07T19:58:31.863Z"
   },
   {
    "duration": 25,
    "start_time": "2023-03-07T19:58:31.892Z"
   },
   {
    "duration": 25,
    "start_time": "2023-03-07T19:58:31.919Z"
   },
   {
    "duration": 26,
    "start_time": "2023-03-07T19:58:31.945Z"
   },
   {
    "duration": 25,
    "start_time": "2023-03-07T19:58:31.973Z"
   },
   {
    "duration": 56,
    "start_time": "2023-03-07T19:58:32.000Z"
   },
   {
    "duration": 41,
    "start_time": "2023-03-07T19:58:32.058Z"
   },
   {
    "duration": 40,
    "start_time": "2023-03-07T19:58:32.101Z"
   },
   {
    "duration": 58,
    "start_time": "2023-03-07T19:58:32.143Z"
   },
   {
    "duration": 67,
    "start_time": "2023-03-07T19:58:32.203Z"
   },
   {
    "duration": 28,
    "start_time": "2023-03-07T19:58:32.272Z"
   },
   {
    "duration": 31,
    "start_time": "2023-03-07T19:58:32.302Z"
   },
   {
    "duration": 33,
    "start_time": "2023-03-07T19:58:32.335Z"
   },
   {
    "duration": 31,
    "start_time": "2023-03-07T19:58:32.372Z"
   },
   {
    "duration": 35,
    "start_time": "2023-03-07T19:58:32.404Z"
   }
  ],
  "kernelspec": {
   "display_name": "Python 3 (ipykernel)",
   "language": "python",
   "name": "python3"
  },
  "language_info": {
   "codemirror_mode": {
    "name": "ipython",
    "version": 3
   },
   "file_extension": ".py",
   "mimetype": "text/x-python",
   "name": "python",
   "nbconvert_exporter": "python",
   "pygments_lexer": "ipython3",
   "version": "3.9.13"
  },
  "toc": {
   "base_numbering": 1,
   "nav_menu": {},
   "number_sections": true,
   "sideBar": true,
   "skip_h1_title": true,
   "title_cell": "Table of Contents",
   "title_sidebar": "Contents",
   "toc_cell": false,
   "toc_position": {},
   "toc_section_display": true,
   "toc_window_display": true
  }
 },
 "nbformat": 4,
 "nbformat_minor": 2
}
